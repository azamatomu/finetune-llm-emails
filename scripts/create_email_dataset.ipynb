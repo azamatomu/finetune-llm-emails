{
 "cells": [
  {
   "cell_type": "markdown",
   "id": "58e21c3e-a79d-4b5f-954d-174b90ec17da",
   "metadata": {},
   "source": [
    "## Preparing a fine-tuning dataset for Email Content strategies\n",
    "\n",
    "Idea is that fine tuning a dataset on series of commercial and update emails from different providers should teach the LLM about different activation and retention strategies. \n",
    "\n",
    "Process to create the dataset in 3 steps: \n",
    "1.  Download your GMail Takeout data dump in `../data/allmail.mbox`\n",
    "2.  Read every email tagged as \"Commerical\" or \"Updates\", unless it is starred or tagged as important (which probably means it's some specific communication),\n",
    "3.  Count if there was at least 1 open email from each email sender. If >=1 open email, then tag all emails from this subject as \"retention\", if 0 open emails, then \"activation\".\n",
    "\n",
    "The logic behind the last step is that at least for some of the email senders, if I have not opened any emails they adjust the email strategy compared to senders with whose emails I regularly interact. "
   ]
  },
  {
   "cell_type": "code",
   "execution_count": 2,
   "id": "7e8df23e-4dec-4854-b177-d2192b90bc3a",
   "metadata": {},
   "outputs": [],
   "source": [
    "import email\n",
    "from email.policy import default\n",
    "\n",
    "import re\n",
    "import pandas as pd\n",
    "from datetime import datetime\n",
    "\n",
    "class MboxReader:\n",
    "    def __init__(self, filename):\n",
    "        self.handle = open(filename, 'rb')\n",
    "        assert self.handle.readline().startswith(b'From ')\n",
    "\n",
    "    def __enter__(self):\n",
    "        return self\n",
    "\n",
    "    def __exit__(self, exc_type, exc_value, exc_traceback):\n",
    "        self.handle.close()\n",
    "\n",
    "    def __iter__(self):\n",
    "        return iter(self.__next__())\n",
    "\n",
    "    def __next__(self):\n",
    "        lines = []\n",
    "        while True:\n",
    "            line = self.handle.readline()\n",
    "            if line == b'' or line.startswith(b'From '):\n",
    "                yield email.message_from_bytes(b''.join(lines), policy=default)\n",
    "                if line == b'':\n",
    "                    break\n",
    "                lines = []\n",
    "                continue\n",
    "            lines.append(line)"
   ]
  },
  {
   "cell_type": "code",
   "execution_count": 3,
   "id": "9e0fe35c-d835-4113-be3b-2cc67f9d93f4",
   "metadata": {},
   "outputs": [
    {
     "name": "stdout",
     "output_type": "stream",
     "text": [
      "Processed 0 emails...\n",
      "Processed 10000 emails...\n",
      "Processed 20000 emails...\n",
      "Processed 30000 emails...\n",
      "Processed 40000 emails...\n"
     ]
    }
   ],
   "source": [
    "sent_emails = {}\n",
    "\n",
    "with MboxReader('../data/allmail.mbox') as mbox:\n",
    "    for i, message in enumerate(mbox):\n",
    "        if 'X-Gmail-Labels' in message.keys():\n",
    "            gmail_label = message[\"X-Gmail-Labels\"]\n",
    "            \n",
    "            if ('Important' in gmail_label) or ('Starred' in gmail_label):\n",
    "                continue\n",
    "             \n",
    "            if ('promotions' in gmail_label):\n",
    "                sender_name = message['From'].split('<')[0].strip()\n",
    "                \n",
    "                if message['Delivered-To'] == 'azamat.omu@gmail.com':\n",
    "                    if message['From'] in sent_emails:\n",
    "                        sent_emails[message['From']].append({\n",
    "                            'order': len(sent_emails[message['From']]),\n",
    "                            'sender_name': sender_name,\n",
    "                            'subject': message['Subject'],\n",
    "                            'date': message['Date'],\n",
    "                            'opened': int('Opened' in message[\"X-Gmail-Labels\"]),\n",
    "                        })\n",
    "                    else:\n",
    "                        sent_emails[message['From']] = [{\n",
    "                            'order': 0,\n",
    "                            'sender_name': sender_name,\n",
    "                            'subject': message['Subject'],\n",
    "                            'date': message['Date'],\n",
    "                            'opened': int('Opened' in message[\"X-Gmail-Labels\"]),\n",
    "                        }]\n",
    "                        \n",
    "        if i % 10000 == 0:\n",
    "            print(f'Processed {i} emails...')\n"
   ]
  },
  {
   "cell_type": "code",
   "execution_count": 8,
   "id": "ca5e7cd8-58b0-4874-8ce8-128ddebd171b",
   "metadata": {},
   "outputs": [
    {
     "name": "stdout",
     "output_type": "stream",
     "text": [
      "Number of retrieved emails: 13772\n"
     ]
    }
   ],
   "source": [
    "print('Number of retrieved emails:', sum([len(x) for x in sent_emails.values()]))"
   ]
  },
  {
   "cell_type": "code",
   "execution_count": 38,
   "id": "cbde0c38-cc78-4c45-bb20-5a8d9be6c9c7",
   "metadata": {},
   "outputs": [],
   "source": [
    "data = {\n",
    "    \"sender_email\": [],\n",
    "    \"opened_emails\": [],\n",
    "    \"sent_emails\": []\n",
    "}\n",
    "\n",
    "for sender in sent_emails.keys():\n",
    "    data['sender_email'].append(sender)\n",
    "    data['opened_emails'].append(sum([record['opened'] for record in sent_emails[sender]]))\n",
    "    data['sent_emails'].append(len([record['opened'] for record in sent_emails[sender]]))\n",
    "\n",
    "df = pd.DataFrame(data)\n",
    "\n",
    "# Remove unnecessary parts from sender column\n",
    "df['sender'] = df['sender_email'].str.split('<').str[0].str.strip()"
   ]
  },
  {
   "cell_type": "code",
   "execution_count": 39,
   "id": "7a65ff41-8c2b-49ea-be0f-ca758466fb25",
   "metadata": {},
   "outputs": [
    {
     "data": {
      "text/html": [
       "<div>\n",
       "<style scoped>\n",
       "    .dataframe tbody tr th:only-of-type {\n",
       "        vertical-align: middle;\n",
       "    }\n",
       "\n",
       "    .dataframe tbody tr th {\n",
       "        vertical-align: top;\n",
       "    }\n",
       "\n",
       "    .dataframe thead th {\n",
       "        text-align: right;\n",
       "    }\n",
       "</style>\n",
       "<table border=\"1\" class=\"dataframe\">\n",
       "  <thead>\n",
       "    <tr style=\"text-align: right;\">\n",
       "      <th></th>\n",
       "      <th>sender_email</th>\n",
       "      <th>opened_emails</th>\n",
       "      <th>sent_emails</th>\n",
       "      <th>sender</th>\n",
       "    </tr>\n",
       "  </thead>\n",
       "  <tbody>\n",
       "    <tr>\n",
       "      <th>0</th>\n",
       "      <td>\"Amazon.nl\" &lt;store-news@amazon.nl&gt;</td>\n",
       "      <td>46</td>\n",
       "      <td>208</td>\n",
       "      <td>\"Amazon.nl\"</td>\n",
       "    </tr>\n",
       "    <tr>\n",
       "      <th>1</th>\n",
       "      <td>Newsstand Magazines &lt;subenquiries@newsstand.co...</td>\n",
       "      <td>1</td>\n",
       "      <td>30</td>\n",
       "      <td>Newsstand Magazines</td>\n",
       "    </tr>\n",
       "    <tr>\n",
       "      <th>2</th>\n",
       "      <td>B2S &lt;newsletter@mailing.b2s.nl&gt;</td>\n",
       "      <td>0</td>\n",
       "      <td>22</td>\n",
       "      <td>B2S</td>\n",
       "    </tr>\n",
       "    <tr>\n",
       "      <th>3</th>\n",
       "      <td>SHEIN &lt;shein@market.sheinmail.com&gt;</td>\n",
       "      <td>10</td>\n",
       "      <td>282</td>\n",
       "      <td>SHEIN</td>\n",
       "    </tr>\n",
       "    <tr>\n",
       "      <th>4</th>\n",
       "      <td>Productboard &lt;hello@productboard.com&gt;</td>\n",
       "      <td>3</td>\n",
       "      <td>34</td>\n",
       "      <td>Productboard</td>\n",
       "    </tr>\n",
       "    <tr>\n",
       "      <th>5</th>\n",
       "      <td>Ivan at Notion &lt;ivan@mail.notion.so&gt;</td>\n",
       "      <td>1</td>\n",
       "      <td>9</td>\n",
       "      <td>Ivan at Notion</td>\n",
       "    </tr>\n",
       "    <tr>\n",
       "      <th>6</th>\n",
       "      <td>Martin Peers &lt;hello@theinformation.com&gt;</td>\n",
       "      <td>0</td>\n",
       "      <td>35</td>\n",
       "      <td>Martin Peers</td>\n",
       "    </tr>\n",
       "    <tr>\n",
       "      <th>7</th>\n",
       "      <td>bol &lt;info@email.bol.com&gt;</td>\n",
       "      <td>0</td>\n",
       "      <td>9</td>\n",
       "      <td>bol</td>\n",
       "    </tr>\n",
       "    <tr>\n",
       "      <th>8</th>\n",
       "      <td>Freek van Grapedistrict &lt;hello@info.grapedistr...</td>\n",
       "      <td>0</td>\n",
       "      <td>21</td>\n",
       "      <td>Freek van Grapedistrict</td>\n",
       "    </tr>\n",
       "    <tr>\n",
       "      <th>9</th>\n",
       "      <td>IFFR &lt;online@iffr.com&gt;</td>\n",
       "      <td>1</td>\n",
       "      <td>75</td>\n",
       "      <td>IFFR</td>\n",
       "    </tr>\n",
       "  </tbody>\n",
       "</table>\n",
       "</div>"
      ],
      "text/plain": [
       "                                        sender_email  opened_emails  \\\n",
       "0                 \"Amazon.nl\" <store-news@amazon.nl>             46   \n",
       "1  Newsstand Magazines <subenquiries@newsstand.co...              1   \n",
       "2                    B2S <newsletter@mailing.b2s.nl>              0   \n",
       "3                 SHEIN <shein@market.sheinmail.com>             10   \n",
       "4              Productboard <hello@productboard.com>              3   \n",
       "5               Ivan at Notion <ivan@mail.notion.so>              1   \n",
       "6            Martin Peers <hello@theinformation.com>              0   \n",
       "7                           bol <info@email.bol.com>              0   \n",
       "8  Freek van Grapedistrict <hello@info.grapedistr...              0   \n",
       "9                             IFFR <online@iffr.com>              1   \n",
       "\n",
       "   sent_emails                   sender  \n",
       "0          208              \"Amazon.nl\"  \n",
       "1           30      Newsstand Magazines  \n",
       "2           22                      B2S  \n",
       "3          282                    SHEIN  \n",
       "4           34             Productboard  \n",
       "5            9           Ivan at Notion  \n",
       "6           35             Martin Peers  \n",
       "7            9                      bol  \n",
       "8           21  Freek van Grapedistrict  \n",
       "9           75                     IFFR  "
      ]
     },
     "execution_count": 39,
     "metadata": {},
     "output_type": "execute_result"
    }
   ],
   "source": [
    "df.head(10)"
   ]
  },
  {
   "cell_type": "code",
   "execution_count": 13,
   "id": "4daf6e69-a66b-4d02-9e4b-4590c982cad5",
   "metadata": {},
   "outputs": [],
   "source": [
    "activation = df[lambda df: df['opened_emails'] == 0]['sender'].unique()\n",
    "retention = df[lambda df: df['opened_emails'] > 0]['sender'].unique()"
   ]
  },
  {
   "cell_type": "code",
   "execution_count": 14,
   "id": "25800e8c-b96e-40d3-bf1b-926f5e22897e",
   "metadata": {},
   "outputs": [],
   "source": [
    "def update_order(email_entries):\n",
    "    email_entries.sort(key=lambda x: datetime.strptime(x['date'], '%a, %d %b %Y %H:%M:%S %z'))\n",
    "    \n",
    "    for index, email_entry in enumerate(email_entries):\n",
    "        email_entry['order'] = index\n",
    "\n",
    "for sender, email_entries in sent_emails.items():\n",
    "    update_order(email_entries)"
   ]
  },
  {
   "cell_type": "code",
   "execution_count": 16,
   "id": "54aaccad-e874-4383-8c72-e6380d358e60",
   "metadata": {},
   "outputs": [],
   "source": [
    "finetune_data = []\n",
    "gpt4_data = {}\n",
    "for sender_key in sent_emails.keys(): \n",
    "    gpt4_tmp = []\n",
    "    for email_info in sent_emails[sender_key]:\n",
    "        entry = ''\n",
    "        if email_info['sender_name'] in activation:\n",
    "            entry += 'activation; '\n",
    "        elif email_info['sender_name'] in retention:\n",
    "            entry += 'retention; '\n",
    "        entry += f'from {email_info[\"sender_name\"]}; {email_info[\"order\"]}th email sent; '\n",
    "        entry += f'subject: {email_info[\"subject\"]}'\n",
    "        finetune_data.append(entry)\n",
    "        gpt4_tmp.append(entry)\n",
    "        \n",
    "    gpt4_data[sender_key] = '\\n'.join(gpt4_tmp)\n"
   ]
  },
  {
   "cell_type": "code",
   "execution_count": 17,
   "id": "1393a81c-aaf1-478c-92d9-2f50d20ce8fc",
   "metadata": {},
   "outputs": [
    {
     "data": {
      "text/plain": [
       "['activation; from \"Amazon.nl\"; 0th email sent; subject: Gratis met Amazon Prime: Bekijk de veelbesproken film \\'De Oost\\'',\n",
       " 'activation; from \"Amazon.nl\"; 1th email sent; subject: Amazon’s Vroege Zomer Deals beginnen nu ',\n",
       " 'activation; from \"Amazon.nl\"; 2th email sent; subject: Super Mario Party (Nintendo...',\n",
       " 'activation; from \"Amazon.nl\"; 3th email sent; subject: Shop vanaf nu de beste deals voor de feestdagen.',\n",
       " 'activation; from \"Amazon.nl\"; 4th email sent; subject: Op zoek naar speelgoed deals? Bezoek onze Sint shop.']"
      ]
     },
     "execution_count": 17,
     "metadata": {},
     "output_type": "execute_result"
    }
   ],
   "source": [
    "finetune_data[:5]"
   ]
  },
  {
   "cell_type": "code",
   "execution_count": 18,
   "id": "b2465dae-4a94-4834-84aa-51ce50cdabe7",
   "metadata": {},
   "outputs": [],
   "source": [
    "with open('../data/finetune-emails.txt', 'w') as file: \n",
    "    file.write('\\n'.join(finetune_data))"
   ]
  },
  {
   "cell_type": "markdown",
   "id": "1684144e-7c05-44bb-ab86-6a14aaf3985d",
   "metadata": {},
   "source": [
    "## Enrich data with GPT-4"
   ]
  },
  {
   "cell_type": "code",
   "execution_count": 5,
   "id": "776839ad-390d-4e3d-b01d-500077c39707",
   "metadata": {},
   "outputs": [
    {
     "name": "stdout",
     "output_type": "stream",
     "text": [
      "\n",
      "\u001b[1m[\u001b[0m\u001b[34;49mnotice\u001b[0m\u001b[1;39;49m]\u001b[0m\u001b[39;49m A new release of pip available: \u001b[0m\u001b[31;49m22.3.1\u001b[0m\u001b[39;49m -> \u001b[0m\u001b[32;49m24.0\u001b[0m\n",
      "\u001b[1m[\u001b[0m\u001b[34;49mnotice\u001b[0m\u001b[1;39;49m]\u001b[0m\u001b[39;49m To update, run: \u001b[0m\u001b[32;49mpip install --upgrade pip\u001b[0m\n"
     ]
    }
   ],
   "source": [
    "!pip install -q python-dotenv openai"
   ]
  },
  {
   "cell_type": "code",
   "execution_count": 1,
   "id": "66dd5451-2f2d-47f1-9fbd-bde7429efd99",
   "metadata": {},
   "outputs": [],
   "source": [
    "with open('../data/finetune-emails.txt', 'r') as file: \n",
    "    finetune_data = file.read()"
   ]
  },
  {
   "cell_type": "code",
   "execution_count": 19,
   "id": "509c398c-e3db-45db-b359-bc76fbe283e3",
   "metadata": {},
   "outputs": [],
   "source": [
    "from dotenv import load_dotenv\n",
    "from openai import OpenAI\n",
    "load_dotenv()  # take environment variables from .env.\n",
    "client = OpenAI()\n",
    "whisper_model = 'whisper-1'\n",
    "gpt_model = 'gpt-4-1106-preview'"
   ]
  },
  {
   "cell_type": "code",
   "execution_count": 22,
   "id": "60a6372c-abaa-440b-ba56-f4b21ac8bb40",
   "metadata": {},
   "outputs": [],
   "source": [
    "process_calendar_fn = lambda emails: client.chat.completions.create(\n",
    "    model=gpt_model,\n",
    "    messages=[\n",
    "            {\"role\": \"system\", \"content\": \"You are creating a dataset to fine-tune a LLM that mimics experienced content marketers.\"},\n",
    "            {\"role\": \"user\", \"content\": \n",
    "             f\"\"\"You are preparing a fine-tuning dataset.\n",
    "             Start your response with the instruction. Put these instructions between [INST][/INST] brackets.\n",
    "             Based on the list of email entries below, come up with what the instruction behind coming up with the content calendar might have been.\n",
    "             Following the instruction, respond with the proposed plan (which you can derive from the provided emails).             \n",
    "             Each email entry is structured as: [activation/retention]; [sender]; [order]; [subject].\n",
    "             {emails}\n",
    "             \"\"\"},\n",
    "        ],\n",
    ")"
   ]
  },
  {
   "cell_type": "code",
   "execution_count": 57,
   "id": "af1cdb8a-26cf-48c1-b7fe-855fa115c490",
   "metadata": {
    "scrolled": true
   },
   "outputs": [],
   "source": [
    "valid_email_senders = df[lambda df: df['sent_emails'] > 5]['sender_email'].unique()\n"
   ]
  },
  {
   "cell_type": "code",
   "execution_count": null,
   "id": "296b6961-6ee8-4c98-83c6-847a28126e19",
   "metadata": {
    "scrolled": true
   },
   "outputs": [],
   "source": [
    "email_instructions = {}\n",
    "for sender in gpt4_data.keys():\n",
    "    if sender in valid_email_senders:\n",
    "        print(f'Processing {sender}...')\n",
    "        response = process_calendar_fn(gpt4_data[sender])\n",
    "        response_text = response.choices[0].message.content\n",
    "        email_instructions[sender] = response_text"
   ]
  },
  {
   "cell_type": "code",
   "execution_count": 79,
   "id": "0648bda0-3812-4bed-9788-8fe9eb092485",
   "metadata": {},
   "outputs": [
    {
     "name": "stdout",
     "output_type": "stream",
     "text": [
      "Prepared instructions for 192 emails\n"
     ]
    }
   ],
   "source": [
    "print(f'Prepared instructions for {len(email_instructions.values())} emails')"
   ]
  },
  {
   "cell_type": "code",
   "execution_count": 70,
   "id": "043bd268-2fe7-463c-bca7-69b1ff2bddbf",
   "metadata": {},
   "outputs": [],
   "source": [
    "instruction_data = '\\n'.join([entry.replace('\\n', ' ') for entry in email_instructions.values()])\n",
    "\n",
    "with open('../data/instruction-emails.txt', 'w') as file: \n",
    "    file.write('\\n'.join(instruction_data))"
   ]
  },
  {
   "cell_type": "code",
   "execution_count": null,
   "id": "5e1fae51-3a96-46b8-8204-441e09a5dbf8",
   "metadata": {},
   "outputs": [],
   "source": []
  }
 ],
 "metadata": {
  "kernelspec": {
   "display_name": "Python 3 (ipykernel)",
   "language": "python",
   "name": "python3"
  },
  "language_info": {
   "codemirror_mode": {
    "name": "ipython",
    "version": 3
   },
   "file_extension": ".py",
   "mimetype": "text/x-python",
   "name": "python",
   "nbconvert_exporter": "python",
   "pygments_lexer": "ipython3",
   "version": "3.11.3"
  }
 },
 "nbformat": 4,
 "nbformat_minor": 5
}
