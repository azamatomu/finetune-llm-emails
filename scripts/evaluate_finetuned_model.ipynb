{
 "cells": [
  {
   "cell_type": "markdown",
   "id": "2c253e20-c72f-47d1-aae9-20fa90c5487f",
   "metadata": {},
   "source": [
    "## Model evaluation + using the end-point\n",
    "\n",
    "To evaluate whether the response is adequate, I am mainly looking for 3 things: \n",
    "1. Response shows a breakdown of ideas per week\n",
    "2. There should be reasoning about how each content helps achieve the specified goal\n",
    "3. It should be aware of what the company is doing"
   ]
  },
  {
   "cell_type": "code",
   "execution_count": 34,
   "id": "cf9db9cd-a53d-444b-87f1-8a504658b0ae",
   "metadata": {},
   "outputs": [],
   "source": [
    "import requests\n",
    "\n",
    "url = 'https://api.runpod.ai/v2/bn6i57c6fbcskq/runsync'\n",
    "headers = {\n",
    "    'Authorization': 'Bearer DM_FOR_TOKEN',\n",
    "    'Content-Type': 'application/json'  \n",
    "}\n",
    "def get_answer(goal, duration, segment, company_info):\n",
    "    payload = {\n",
    "        'input': {\n",
    "            'prompt': f\"\"\"Produce an email calendar. \n",
    "            Goal: {goal}. \n",
    "            Duration: {duration}. \n",
    "            Customer segment: {segment}.\n",
    "            Company description: {company_info}\"\"\"        \n",
    "      }\n",
    "    }\n",
    "        \n",
    "    response = requests.post(url, headers=headers, json=payload)\n",
    "    \n",
    "    if response.status_code == 200:\n",
    "        print(\"Request successful!\")\n",
    "        return response.json()\n",
    "    else:\n",
    "        print(\"Request failed with status code:\", response.status_code)\n",
    "        return response.text\n"
   ]
  },
  {
   "cell_type": "markdown",
   "id": "232b19ac-d2b8-4ae4-bf0f-d69f34ebcdb1",
   "metadata": {},
   "source": [
    "#### Example 1: Apartments marketplace"
   ]
  },
  {
   "cell_type": "code",
   "execution_count": 29,
   "id": "1a2123a2-7b5e-4869-9985-d0239e175df1",
   "metadata": {},
   "outputs": [],
   "source": [
    "response = get_answer('Activation', '6 months', 'Web users', 'Marketplace for buying apartments')"
   ]
  },
  {
   "cell_type": "code",
   "execution_count": 27,
   "id": "980760e8-1f9b-4085-9b24-ad15fb5e4562",
   "metadata": {},
   "outputs": [
    {
     "name": "stdout",
     "output_type": "stream",
     "text": [
      "[INST]Produce an email calendar. \n",
      "            Goal: Activation. \n",
      "            Duration: 6 months. \n",
      "            Customer segment: Web users.\n",
      "            Company description: Marketplace for buying apartments[/INST]1. **Email 1: Welcome and Onboarding (Week 1)**\n",
      "Subject: ⚡ Welcome to [Company Name] - Your New Destination for Finding Your Dream Apartment! ⚡\n",
      "Content: Introduce new subscribers to the company, explain what the platform is and how it can help them find their dream apartment. Provide them with helpful resources and tips for getting started.\n",
      "\n",
      "2. **Email 2: Feature Highlight (Week 2)**\n",
      "Subject: 🔧 Feature Focus: Filter by Neighborhoods 🌆\n",
      "Content: Highlight a specific feature of the platform and explain how it can help web users find their perfect apartment based on their desired neighborhoods. Include testimonials or success stories.\n",
      "\n",
      "3. **Email 3: Content Rich (Week 3)**\n",
      "Subject: 📚 Learning Hub: Best Neighborhoods for Families 👨‍👩‍👧‍👦\n",
      "Content: Share valuable content related to the apartment hunting process, such as tips for finding the best neighborhoods for families, or top neighborhood picks. Send readers to a blog post or resources on the company's website for further information.\n",
      "\n",
      "4. **Email 4: Promotional (Quarterly): Referral Program (Week 4, 12, 20, 28)**\n",
      "Subject: 🌟 Refer a Friend & Get Rewards 🤝\n",
      "Content: Offer an incentive for current subscribers to refer their friends to the platform. Provide them with a unique referral link or code to share, and set clear reward expectations.\n",
      "\n",
      "5. **Email 5: Webinar or Event Invitation (Week 5, 13, 21, 29)**\n",
      "Subject: 🗓 Save the Date! Upcoming [Company Name] Webinar 🌍\n",
      "Content: Invite subscribers to a live webinar on apartment hunting tips, market trends, or other relevant topics. Share the date and time, and provide a registration link.\n",
      "\n",
      "6. **Email 6: Special Offer (Week 6, 14, 22, 30)**\n",
      "Subject: 🎁 Limited-Time Apartment Market Discount 🏠\n",
      "Content: Offer a limited-time discount or exclusive deal on apartments listed on the platform. Encourage subscribers to take advantage of this offer to secure their dream apartment.\n",
      "\n",
      "Throughout this 6-month email calendar, aim to maintain a consistent cadence (bi-weekly), engaging content, and clear calls-to-action (CTAs) to activate and retain web users.\n"
     ]
    }
   ],
   "source": [
    "print(response)"
   ]
  },
  {
   "cell_type": "markdown",
   "id": "2b1faf26-eadf-4e57-bb54-7466b6d65019",
   "metadata": {},
   "source": [
    "#### Example 2: Wine shop promotion"
   ]
  },
  {
   "cell_type": "code",
   "execution_count": 42,
   "id": "1952cca4-eb11-4300-97e4-eb6dbbadb865",
   "metadata": {},
   "outputs": [
    {
     "name": "stdout",
     "output_type": "stream",
     "text": [
      "Request successful!\n"
     ]
    }
   ],
   "source": [
    "response = get_answer('Seasonal promotion', '8 weeks', 'Gen Z', 'Wine shop with rich selections')"
   ]
  },
  {
   "cell_type": "code",
   "execution_count": 43,
   "id": "139f9057-efad-4afe-ad5f-2e9e6782f230",
   "metadata": {},
   "outputs": [
    {
     "name": "stdout",
     "output_type": "stream",
     "text": [
      "[INST]Produce an email calendar. \n",
      "            Goal: Seasonal promotion. \n",
      "            Duration: 8 weeks. \n",
      "            Customer segment: Gen Z.\n",
      "            Company description: Wine shop with rich selections[/INST] subject: 🤩 Get Ready for the Best Seasonal Wine Promotions of the Year![/ subject: 🤩 Get Ready for the Best Seasonal Wine Promotions of the Year!\n",
      "\n",
      " Hello there, Wine Lovers 🎉,\n",
      "\n",
      " Spring is in the air and so are the fantastic wine experiences we have in store for you! At [Your Wine Shop Name], we're excited to kick off our 8-week seasonal promotion lineup, curated especially for our young and vibrant Gen Z customers.\n",
      "\n",
      " week 1: Wine & Cherry Blossoms 🌸\n",
      "🎦 Introducing the delightful Pink Moscato, a beautiful and light option to welcome the season. Enjoy 15% off your first purchase!\n",
      "\n",
      " week 2: Red, White, and Blooms 🌼\n",
      "🎤 Take a sip of our refreshing Rosé collection, now 10% off. Perfect for spring picnics and balcony sips.\n",
      "\n",
      " week 3: Barbecue & Beaujolais 🥓\n",
      "🌙 Our classic Barbecue Wines are here just in time for the season. Savor 15% off with code GRILL15.\n",
      "\n",
      " week 4: Mother's Day Brunch 😍\n",
      "💐 Treat your Mama to a bottles from our carefully selected wine collection for mother's day. Enjoy free shipping on orders over $50!\n",
      "\n",
      " week 5: Summer Sips Preview 🏖️\n",
      "🛍️ Get a sneak peek into our newest summer wines, now available for pre-order! Secure yours with a 10% discount.\n",
      "\n",
      " week 6: Tropical Fruit Wines 🍓\n",
      "🍹 Transport yourself to a tropical paradise with our delicious selection of fruit wines. Enjoy an amazing 15% off your entire order!\n",
      "\n",
      " week 7: Father's Day Bundle 🍷\n",
      "🎁 Treat dad to a wonderful Father's Day gift, containing our carefully selected Dad-approved wines. Order now and save 15%!\n",
      "\n",
      " week 8: Wine Club Member Exclusive 🤝\n",
      "🌟 Our cherished Wine Club Members, don't miss out! Savor 20% off your favorite wines, just because we love you!\n",
      "\n",
      " Stay tuned to our newsletter and follow us on social media for updates on each promotion and special deals. Can't wait for you to taste what we've got in store this spring! Cheers to life, love, and great wines 🍷🍾.\n",
      "\n",
      " Best Regards,\n",
      "Your Wine Shop Team\n"
     ]
    }
   ],
   "source": [
    "print(response['output'])"
   ]
  },
  {
   "cell_type": "markdown",
   "id": "09abaed3-a78d-4e33-949a-ab8b06b44dcc",
   "metadata": {},
   "source": [
    "#### Example 3: Online classes offer"
   ]
  },
  {
   "cell_type": "code",
   "execution_count": 44,
   "id": "c2063eab-5549-480f-9ec8-01fb4f09ecee",
   "metadata": {},
   "outputs": [
    {
     "name": "stdout",
     "output_type": "stream",
     "text": [
      "Request successful!\n"
     ]
    }
   ],
   "source": [
    "response = get_answer('Retention after first try-out', '6 months', 'Expat parents', 'Programming online classes for kids')"
   ]
  },
  {
   "cell_type": "code",
   "execution_count": 45,
   "id": "5d0c439b-2105-4e09-b5c2-6b76e77e8d91",
   "metadata": {},
   "outputs": [
    {
     "name": "stdout",
     "output_type": "stream",
     "text": [
      "[INST]Produce an email calendar. \n",
      "            Goal: Retention after first try-out. \n",
      "            Duration: 6 months. \n",
      "            Customer segment: Expat parents.\n",
      "            Company description: Programming online classes for kids[/INST]** Subject: 🌐 Welcome to [Company Name]: Exclusive 6-Month Email Calendar for Expat Parents**\n",
      "\n",
      "**Hi [Customer Name],**\n",
      "\n",
      "**Welcome to [Company Name], your new partner in providing engaging and effective online programming classes for your kids! We're thrilled to have you on board, and we're committed to helping your children grow their knowledge and skills in a fun and immersive learning environment.**\n",
      "\n",
      "**To ensure that your family gets the maximum benefit from our programs, we've created an exclusive 6-month email calendar filled with exciting events, helpful resources, and exclusive offers just for you. Here's what's in store:**\n",
      "\n",
      "**Week 1 ✔:**\n",
      "- Class Overview: Find out more about the specific programming classes your child will be enrolled in and what they can expect to learn.\n",
      "- Welcome Webinar: Join us for a special webinar where you'll meet our team, learn about our teaching approach, and get answers to any questions you might have.\n",
      "\n",
      "**Week 2 ✔:**\n",
      "- Class Preparation: Receive a list of suggested materials and resources to help your child prepare for their first class.\n",
      "- Parent-Teacher Introductions: Connect with your child's dedicated teacher and schedule a preliminary phone call.\n",
      "\n",
      "**Week 3 ✔:**\n",
      "- Class Orientation: Attend a virtual orientation session to learn about our learning platform, Classroom, and best practices for using it.\n",
      "- Parent Support: Access helpful resources such as tutorials, FAQs, and tips for making the most of our classes.\n",
      "\n",
      "**Week 4:**\n",
      "- Student Spotlight: Meet other students and families from around the world who are part of our expat community. Share stories and get to know your fellow learners.\n",
      "\n",
      "**Week 5:**\n",
      "- Class Schedules: Receive your child's personalized class schedule and make any necessary adjustments to accommodate your family's unique needs.\n",
      "- Parent-Teacher Consultations: Schedule a one-on-one consultation with your child's teacher to discuss their progress and goals.\n",
      "\n",
      "**Week 6:**\n",
      "- Learning Milestones: Receive a certificate of achievement for your child's first month of learning with us, and discuss their progress with their teacher.\n",
      "- Referral Program: Share [Company Name] with your friends and family and receive special rewards for bringing in new students.\n",
      "\n",
      "**Weeks 7-10:**\n",
      "- Monthly Masterclasses: Attend optional masterclasses with expert guest teachers on advanced topics in programming and related fields.\n",
      "- Parent Learning: Participate in workshops designed specifically for parents to deepen your understanding of the concepts your child is learning.\n",
      "\n",
      "**Week 11:**\n",
      "- Student Progress Update: Receive an update on your child's progress from their teacher and discuss any areas for improvement.\n",
      "- Class Upgrade: Consider upgrading your child's class package based on their progress and learning goals.\n",
      "\n",
      "**Week 12:**\n",
      "- Community Feedback: Share your feedback on the classes, resources, and support you've received from [Company Name], and help us make improvements for other families.\n",
      "\n",
      "**Weeks 13-18:**\n",
      "- Monthly Topics: Focus on specific themes and subjects that will challenge and excite your child.\n",
      "- Parental Involvement: Participate in group activities and events designed to engage the whole family in your child's learning journey.\n",
      "\n",
      "**Week 19:**\n",
      "- Mid-Program Review: Receive a progress report for your child and discuss any potential next steps with their teacher.\n",
      "- Parent Testimonials: Share your family's success story with our community and inspire other expat parents.\n",
      "\n",
      "**Weeks 20-23:**\n",
      "- Continued Learning: Keep your child engaged with new and exciting topics and projects.\n",
      "- Parental Engagement: Stay involved in your child's learning process with resources, tips, and interactive activities.\n",
      "\n",
      "**Week 24:**\n",
      "- Program Completion: Celebrate your child's achievements and milestones with a certificate of completion and a special recognition event.\n",
      "- Graduation to Advanced Classes: Help your child transition to the next level of programming classes, based on their progress and learning goals.\n",
      "\n",
      "We're excited to offer you and your family this comprehensive email calendar, and we're here to support you every step of the way. If you ever have questions or concerns, please don't hesitate to reach out at [support@companyname.com](mailto:support@companyname.com), or through your personal Parent Liaison.\n",
      "\n",
      "Welcome to the [Company Name] community, and we can't wait to see your child thrive!\n",
      "\n",
      "Best regards,\n",
      "\n",
      "[Your Name]\n",
      "[Your Position]\n",
      "[Company Name]\n"
     ]
    }
   ],
   "source": [
    "print(response['output'])"
   ]
  },
  {
   "cell_type": "code",
   "execution_count": null,
   "id": "0aba367c-6e7f-469d-b40d-24258bbe1025",
   "metadata": {},
   "outputs": [],
   "source": []
  }
 ],
 "metadata": {
  "kernelspec": {
   "display_name": "Python 3 (ipykernel)",
   "language": "python",
   "name": "python3"
  },
  "language_info": {
   "codemirror_mode": {
    "name": "ipython",
    "version": 3
   },
   "file_extension": ".py",
   "mimetype": "text/x-python",
   "name": "python",
   "nbconvert_exporter": "python",
   "pygments_lexer": "ipython3",
   "version": "3.11.3"
  }
 },
 "nbformat": 4,
 "nbformat_minor": 5
}
