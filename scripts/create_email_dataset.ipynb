{
 "cells": [
  {
   "cell_type": "code",
   "execution_count": 4,
   "id": "7e8df23e-4dec-4854-b177-d2192b90bc3a",
   "metadata": {},
   "outputs": [],
   "source": [
    "import email\n",
    "from email.policy import default\n",
    "\n",
    "import re\n",
    "import pandas as pd\n",
    "from datetime import datetime\n",
    "\n",
    "class MboxReader:\n",
    "    def __init__(self, filename):\n",
    "        self.handle = open(filename, 'rb')\n",
    "        assert self.handle.readline().startswith(b'From ')\n",
    "\n",
    "    def __enter__(self):\n",
    "        return self\n",
    "\n",
    "    def __exit__(self, exc_type, exc_value, exc_traceback):\n",
    "        self.handle.close()\n",
    "\n",
    "    def __iter__(self):\n",
    "        return iter(self.__next__())\n",
    "\n",
    "    def __next__(self):\n",
    "        lines = []\n",
    "        while True:\n",
    "            line = self.handle.readline()\n",
    "            if line == b'' or line.startswith(b'From '):\n",
    "                yield email.message_from_bytes(b''.join(lines), policy=default)\n",
    "                if line == b'':\n",
    "                    break\n",
    "                lines = []\n",
    "                continue\n",
    "            lines.append(line)"
   ]
  },
  {
   "cell_type": "code",
   "execution_count": null,
   "id": "9e0fe35c-d835-4113-be3b-2cc67f9d93f4",
   "metadata": {},
   "outputs": [
    {
     "name": "stdout",
     "output_type": "stream",
     "text": [
      "Processed 0 emails...\n",
      "Processed 1000 emails...\n",
      "Processed 2000 emails...\n",
      "Processed 3000 emails...\n",
      "Processed 4000 emails...\n",
      "Processed 5000 emails...\n",
      "Processed 6000 emails...\n",
      "Processed 9000 emails...\n"
     ]
    }
   ],
   "source": [
    "label_pattern = r'Category\\s*([^,]+)(?:,|$)'\n",
    "sent_emails = {}\n",
    "\n",
    "with MboxReader('data/allmail.mbox') as mbox:\n",
    "    for i, message in enumerate(mbox):\n",
    "        if 'X-Gmail-Labels' in message.keys():\n",
    "            gmail_label = message[\"X-Gmail-Labels\"]\n",
    "            \n",
    "            if ('Important' in gmail_label) or ('Starred' in gmail_label):\n",
    "                continue\n",
    "             \n",
    "            if ('promotions' in gmail_label) or ('updates' in gmail_label):\n",
    "                specific_label = re.search(label_pattern, gmail_label).group(1).strip()\n",
    "                sender_name = message['From'].split('<')[0].strip()\n",
    "                \n",
    "                if message['Delivered-To'] == 'azamat.omu@gmail.com':\n",
    "                    \n",
    "                    if message['From'] in sent_emails:\n",
    "                        sent_emails[message['From']].append({\n",
    "                            'order': len(sent_emails[message['From']]),\n",
    "                            'sender_name': sender_name,\n",
    "                            'subject': message['Subject'],\n",
    "                            'date': message['Date'],\n",
    "                            'opened': int('Opened' in message[\"X-Gmail-Labels\"]),\n",
    "                            'label': specific_label\n",
    "                        })\n",
    "                    else:\n",
    "                        sent_emails[message['From']] = [{\n",
    "                            'order': 0,\n",
    "                            'sender_name': sender_name,\n",
    "                            'subject': message['Subject'],\n",
    "                            'date': message['Date'],\n",
    "                            'opened': int('Opened' in message[\"X-Gmail-Labels\"]),\n",
    "                            'label': specific_label\n",
    "                        }]\n",
    "                        \n",
    "        if i % 1000 == 0:\n",
    "            print(f'Processed {i} emails...')\n"
   ]
  },
  {
   "cell_type": "code",
   "execution_count": null,
   "id": "cbde0c38-cc78-4c45-bb20-5a8d9be6c9c7",
   "metadata": {},
   "outputs": [],
   "source": [
    "data = {\n",
    "    \"sender\": [],\n",
    "    \"opened_emails\": [],\n",
    "    \"sent_emails\": []\n",
    "}\n",
    "\n",
    "for sender in sent_emails.keys():\n",
    "    data['sender'].append(sender)\n",
    "    data['opened_emails'].append(sum([record['opened'] for record in sent_emails[sender]]))\n",
    "    data['sent_emails'].append(len([record['opened'] for record in sent_emails[sender]]))\n",
    "\n",
    "df = pd.DataFrame(data)\n",
    "\n",
    "# Remove unnecessary parts from sender column\n",
    "df['sender'] = df['sender'].str.split('<').str[0].str.strip()"
   ]
  },
  {
   "cell_type": "code",
   "execution_count": 163,
   "id": "4daf6e69-a66b-4d02-9e4b-4590c982cad5",
   "metadata": {},
   "outputs": [],
   "source": [
    "activation = df[lambda df: df['opened_emails'] == 0]['sender'].unique()\n",
    "retention = df[lambda df: df['opened_emails'] > 0]['sender'].unique()"
   ]
  },
  {
   "cell_type": "code",
   "execution_count": 176,
   "id": "25800e8c-b96e-40d3-bf1b-926f5e22897e",
   "metadata": {},
   "outputs": [],
   "source": [
    "def update_order(email_entries):\n",
    "    email_entries.sort(key=lambda x: datetime.strptime(x['date'], '%a, %d %b %Y %H:%M:%S %z'))\n",
    "    \n",
    "    for index, email_entry in enumerate(email_entries):\n",
    "        email_entry['order'] = index\n",
    "\n",
    "for sender, email_entries in sent_emails.items():\n",
    "    update_order(email_entries)"
   ]
  },
  {
   "cell_type": "code",
   "execution_count": 183,
   "id": "54aaccad-e874-4383-8c72-e6380d358e60",
   "metadata": {},
   "outputs": [],
   "source": [
    "finetune_data = []\n",
    "for sender_key in sent_emails.keys(): \n",
    "    for email_info in sent_emails[sender_key]:\n",
    "        entry = ''\n",
    "        if email_info['sender_name'] in activation:\n",
    "            entry += 'activation; '\n",
    "        elif email_info['sender_name'] in retention:\n",
    "            entry += 'retention; '\n",
    "        entry += f'{email_info[\"label\"]}; from {email_info[\"sender_name\"]}; {email_info[\"order\"]}th email sent; '\n",
    "        entry += f'subject: {email_info[\"subject\"]}'\n",
    "        finetune_data.append(entry)\n"
   ]
  },
  {
   "cell_type": "code",
   "execution_count": 184,
   "id": "b2465dae-4a94-4834-84aa-51ce50cdabe7",
   "metadata": {},
   "outputs": [],
   "source": [
    "with open('finetune-emails.txt', 'w') as file: \n",
    "    file.write('\\n'.join(finetune_data))"
   ]
  },
  {
   "cell_type": "code",
   "execution_count": null,
   "id": "a59e3fa0-1fb5-410e-843f-4a9a954a2afa",
   "metadata": {},
   "outputs": [],
   "source": []
  }
 ],
 "metadata": {
  "kernelspec": {
   "display_name": "Python 3 (ipykernel)",
   "language": "python",
   "name": "python3"
  },
  "language_info": {
   "codemirror_mode": {
    "name": "ipython",
    "version": 3
   },
   "file_extension": ".py",
   "mimetype": "text/x-python",
   "name": "python",
   "nbconvert_exporter": "python",
   "pygments_lexer": "ipython3",
   "version": "3.11.3"
  }
 },
 "nbformat": 4,
 "nbformat_minor": 5
}
