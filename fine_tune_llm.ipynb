{
 "cells": [
  {
   "cell_type": "markdown",
   "metadata": {
    "id": "hw9PbWOYxrZ8"
   },
   "source": [
    "## Steps to fine tune model\n",
    "- Select and load model\n",
    "- Select and preprocess dataset (train/eval split, tokenize)\n",
    "- Define quantization or adaptation before fine-tuning for efficiency\n",
    "- Tune and evaluate model\n",
    "\n"
   ]
  },
  {
   "cell_type": "markdown",
   "metadata": {
    "id": "wqFGf9Ak9jFT"
   },
   "source": [
    "### Load model"
   ]
  },
  {
   "cell_type": "code",
   "execution_count": 1,
   "metadata": {
    "colab": {
     "base_uri": "https://localhost:8080/"
    },
    "id": "ZYRbi8UM1pa5",
    "outputId": "52131dcf-b80f-4a5e-889f-404c2e9bf34a"
   },
   "outputs": [
    {
     "name": "stdout",
     "output_type": "stream",
     "text": [
      "\u001b[33mWARNING: Running pip as the 'root' user can result in broken permissions and conflicting behaviour with the system package manager. It is recommended to use a virtual environment instead: https://pip.pypa.io/warnings/venv\u001b[0m\u001b[33m\n",
      "\u001b[0m\n",
      "\u001b[1m[\u001b[0m\u001b[34;49mnotice\u001b[0m\u001b[1;39;49m]\u001b[0m\u001b[39;49m A new release of pip is available: \u001b[0m\u001b[31;49m23.3.1\u001b[0m\u001b[39;49m -> \u001b[0m\u001b[32;49m24.0\u001b[0m\n",
      "\u001b[1m[\u001b[0m\u001b[34;49mnotice\u001b[0m\u001b[1;39;49m]\u001b[0m\u001b[39;49m To update, run: \u001b[0m\u001b[32;49mpython -m pip install --upgrade pip\u001b[0m\n"
     ]
    }
   ],
   "source": [
    "!pip install -q accelerate transformers peft"
   ]
  },
  {
   "cell_type": "code",
   "execution_count": 2,
   "metadata": {
    "colab": {
     "base_uri": "https://localhost:8080/"
    },
    "id": "H4b__4hz3E5c",
    "outputId": "fefc7eb7-e378-421b-edf8-0b25036ff823"
   },
   "outputs": [
    {
     "name": "stdout",
     "output_type": "stream",
     "text": [
      "\u001b[33mWARNING: Running pip as the 'root' user can result in broken permissions and conflicting behaviour with the system package manager. It is recommended to use a virtual environment instead: https://pip.pypa.io/warnings/venv\u001b[0m\u001b[33m\n",
      "\u001b[0m\n",
      "\u001b[1m[\u001b[0m\u001b[34;49mnotice\u001b[0m\u001b[1;39;49m]\u001b[0m\u001b[39;49m A new release of pip is available: \u001b[0m\u001b[31;49m23.3.1\u001b[0m\u001b[39;49m -> \u001b[0m\u001b[32;49m24.0\u001b[0m\n",
      "\u001b[1m[\u001b[0m\u001b[34;49mnotice\u001b[0m\u001b[1;39;49m]\u001b[0m\u001b[39;49m To update, run: \u001b[0m\u001b[32;49mpython -m pip install --upgrade pip\u001b[0m\n"
     ]
    }
   ],
   "source": [
    "!pip install -q datasets scipy ipywidgets matplotlib"
   ]
  },
  {
   "cell_type": "code",
   "execution_count": 3,
   "metadata": {
    "colab": {
     "base_uri": "https://localhost:8080/"
    },
    "id": "R2C59WTv68VR",
    "outputId": "e43e8cfc-2fe7-4cc4-b98e-86bda2258134"
   },
   "outputs": [
    {
     "name": "stdout",
     "output_type": "stream",
     "text": [
      "\u001b[33mWARNING: Running pip as the 'root' user can result in broken permissions and conflicting behaviour with the system package manager. It is recommended to use a virtual environment instead: https://pip.pypa.io/warnings/venv\u001b[0m\u001b[33m\n",
      "\u001b[0m\n",
      "\u001b[1m[\u001b[0m\u001b[34;49mnotice\u001b[0m\u001b[1;39;49m]\u001b[0m\u001b[39;49m A new release of pip is available: \u001b[0m\u001b[31;49m23.3.1\u001b[0m\u001b[39;49m -> \u001b[0m\u001b[32;49m24.0\u001b[0m\n",
      "\u001b[1m[\u001b[0m\u001b[34;49mnotice\u001b[0m\u001b[1;39;49m]\u001b[0m\u001b[39;49m To update, run: \u001b[0m\u001b[32;49mpython -m pip install --upgrade pip\u001b[0m\n"
     ]
    }
   ],
   "source": [
    "!pip install -q bitsandbytes"
   ]
  },
  {
   "cell_type": "code",
   "execution_count": 4,
   "metadata": {},
   "outputs": [
    {
     "name": "stdout",
     "output_type": "stream",
     "text": [
      "\u001b[33mWARNING: Running pip as the 'root' user can result in broken permissions and conflicting behaviour with the system package manager. It is recommended to use a virtual environment instead: https://pip.pypa.io/warnings/venv\u001b[0m\u001b[33m\n",
      "\u001b[0m\n",
      "\u001b[1m[\u001b[0m\u001b[34;49mnotice\u001b[0m\u001b[1;39;49m]\u001b[0m\u001b[39;49m A new release of pip is available: \u001b[0m\u001b[31;49m23.3.1\u001b[0m\u001b[39;49m -> \u001b[0m\u001b[32;49m24.0\u001b[0m\n",
      "\u001b[1m[\u001b[0m\u001b[34;49mnotice\u001b[0m\u001b[1;39;49m]\u001b[0m\u001b[39;49m To update, run: \u001b[0m\u001b[32;49mpython -m pip install --upgrade pip\u001b[0m\n"
     ]
    }
   ],
   "source": [
    "!pip install -q sentencepiece"
   ]
  },
  {
   "cell_type": "code",
   "execution_count": 5,
   "metadata": {},
   "outputs": [
    {
     "name": "stdout",
     "output_type": "stream",
     "text": [
      "True\n"
     ]
    }
   ],
   "source": [
    "import torch\n",
    "print(torch.cuda.is_available())"
   ]
  },
  {
   "cell_type": "code",
   "execution_count": 6,
   "metadata": {},
   "outputs": [
    {
     "name": "stdout",
     "output_type": "stream",
     "text": [
      "Thu Feb 29 10:23:37 2024       \n",
      "+---------------------------------------------------------------------------------------+\n",
      "| NVIDIA-SMI 545.23.08              Driver Version: 545.23.08    CUDA Version: 12.3     |\n",
      "|-----------------------------------------+----------------------+----------------------+\n",
      "| GPU  Name                 Persistence-M | Bus-Id        Disp.A | Volatile Uncorr. ECC |\n",
      "| Fan  Temp   Perf          Pwr:Usage/Cap |         Memory-Usage | GPU-Util  Compute M. |\n",
      "|                                         |                      |               MIG M. |\n",
      "|=========================================+======================+======================|\n",
      "|   0  NVIDIA L40                     On  | 00000000:00:06.0 Off |                    0 |\n",
      "| N/A   32C    P8              35W / 300W |      7MiB / 46068MiB |      0%      Default |\n",
      "|                                         |                      |                  N/A |\n",
      "+-----------------------------------------+----------------------+----------------------+\n",
      "                                                                                         \n",
      "+---------------------------------------------------------------------------------------+\n",
      "| Processes:                                                                            |\n",
      "|  GPU   GI   CI        PID   Type   Process name                            GPU Memory |\n",
      "|        ID   ID                                                             Usage      |\n",
      "|=======================================================================================|\n",
      "|  No running processes found                                                           |\n",
      "+---------------------------------------------------------------------------------------+\n"
     ]
    }
   ],
   "source": [
    "!nvidia-smi"
   ]
  },
  {
   "cell_type": "code",
   "execution_count": 8,
   "metadata": {
    "colab": {
     "base_uri": "https://localhost:8080/",
     "height": 775
    },
    "id": "SlG_g0CzyxqI",
    "outputId": "ac9989de-ed74-4eb2-bbc9-40b49a3da90b"
   },
   "outputs": [
    {
     "data": {
      "application/vnd.jupyter.widget-view+json": {
       "model_id": "d1310310d6334585ba0c11b3b9e6b5f0",
       "version_major": 2,
       "version_minor": 0
      },
      "text/plain": [
       "config.json:   0%|          | 0.00/596 [00:00<?, ?B/s]"
      ]
     },
     "metadata": {},
     "output_type": "display_data"
    },
    {
     "data": {
      "application/vnd.jupyter.widget-view+json": {
       "model_id": "e6e6bd33e8d74c45a74e490b1df87059",
       "version_major": 2,
       "version_minor": 0
      },
      "text/plain": [
       "model.safetensors.index.json:   0%|          | 0.00/25.1k [00:00<?, ?B/s]"
      ]
     },
     "metadata": {},
     "output_type": "display_data"
    },
    {
     "data": {
      "application/vnd.jupyter.widget-view+json": {
       "model_id": "870674073f9c4640b7ec2f74c9a639c6",
       "version_major": 2,
       "version_minor": 0
      },
      "text/plain": [
       "Downloading shards:   0%|          | 0/3 [00:00<?, ?it/s]"
      ]
     },
     "metadata": {},
     "output_type": "display_data"
    },
    {
     "data": {
      "application/vnd.jupyter.widget-view+json": {
       "model_id": "95cef48e212c4239915833705ffa3297",
       "version_major": 2,
       "version_minor": 0
      },
      "text/plain": [
       "model-00001-of-00003.safetensors:   0%|          | 0.00/4.94G [00:00<?, ?B/s]"
      ]
     },
     "metadata": {},
     "output_type": "display_data"
    },
    {
     "data": {
      "application/vnd.jupyter.widget-view+json": {
       "model_id": "cab92156a6c44178bb227b5da3da2910",
       "version_major": 2,
       "version_minor": 0
      },
      "text/plain": [
       "model-00002-of-00003.safetensors:   0%|          | 0.00/5.00G [00:00<?, ?B/s]"
      ]
     },
     "metadata": {},
     "output_type": "display_data"
    },
    {
     "data": {
      "application/vnd.jupyter.widget-view+json": {
       "model_id": "b3d80196fc254606aca2ea3188f5ea0f",
       "version_major": 2,
       "version_minor": 0
      },
      "text/plain": [
       "model-00003-of-00003.safetensors:   0%|          | 0.00/4.54G [00:00<?, ?B/s]"
      ]
     },
     "metadata": {},
     "output_type": "display_data"
    },
    {
     "data": {
      "application/vnd.jupyter.widget-view+json": {
       "model_id": "4c678d4b445a45448d91110e39d62def",
       "version_major": 2,
       "version_minor": 0
      },
      "text/plain": [
       "Loading checkpoint shards:   0%|          | 0/3 [00:00<?, ?it/s]"
      ]
     },
     "metadata": {},
     "output_type": "display_data"
    },
    {
     "data": {
      "application/vnd.jupyter.widget-view+json": {
       "model_id": "347802cf3c224d9095d2c34b917a16d1",
       "version_major": 2,
       "version_minor": 0
      },
      "text/plain": [
       "generation_config.json:   0%|          | 0.00/111 [00:00<?, ?B/s]"
      ]
     },
     "metadata": {},
     "output_type": "display_data"
    },
    {
     "data": {
      "application/vnd.jupyter.widget-view+json": {
       "model_id": "ad1cf9ccf55f4fd69895fe83f66aefd1",
       "version_major": 2,
       "version_minor": 0
      },
      "text/plain": [
       "tokenizer_config.json:   0%|          | 0.00/1.46k [00:00<?, ?B/s]"
      ]
     },
     "metadata": {},
     "output_type": "display_data"
    },
    {
     "data": {
      "application/vnd.jupyter.widget-view+json": {
       "model_id": "fccfc217a54c4c90bdc2b6e452722863",
       "version_major": 2,
       "version_minor": 0
      },
      "text/plain": [
       "tokenizer.model:   0%|          | 0.00/493k [00:00<?, ?B/s]"
      ]
     },
     "metadata": {},
     "output_type": "display_data"
    },
    {
     "data": {
      "application/vnd.jupyter.widget-view+json": {
       "model_id": "a58bf04a768643349f1edd443ff60d28",
       "version_major": 2,
       "version_minor": 0
      },
      "text/plain": [
       "special_tokens_map.json:   0%|          | 0.00/72.0 [00:00<?, ?B/s]"
      ]
     },
     "metadata": {},
     "output_type": "display_data"
    },
    {
     "data": {
      "application/vnd.jupyter.widget-view+json": {
       "model_id": "0a9cc1c1d4a8495994bb66e728ff2206",
       "version_major": 2,
       "version_minor": 0
      },
      "text/plain": [
       "tokenizer.json:   0%|          | 0.00/1.80M [00:00<?, ?B/s]"
      ]
     },
     "metadata": {},
     "output_type": "display_data"
    }
   ],
   "source": [
    "import accelerate\n",
    "\n",
    "import torch\n",
    "from transformers import AutoTokenizer, AutoModelForCausalLM, BitsAndBytesConfig\n",
    "\n",
    "\n",
    "bnb_config = BitsAndBytesConfig(\n",
    "    load_in_4bit=True,\n",
    "    bnb_4bit_use_double_quant=True,\n",
    "    bnb_4bit_quant_type=\"nf4\",\n",
    "    bnb_4bit_compute_dtype=torch.bfloat16\n",
    "    # bnb_4bit_compute_dtype=torch.float16\n",
    ")\n",
    "\n",
    "hf_modelname = \"mistralai/Mistral-7B-Instruct-v0.2\"\n",
    "\n",
    "model = AutoModelForCausalLM.from_pretrained(hf_modelname, device_map=\"auto\",\n",
    "                                             quantization_config=bnb_config,\n",
    "                                            #  torch_dtype=torch.float16, load_in_8bit=True,\n",
    "                                             token=access_token)\n",
    "# tokenizer = AutoTokenizer.from_pretrai\\ned(\"microsoft/phi-2\")#, trust_remote_code=True)\n",
    "\n",
    "tokenizer = AutoTokenizer.from_pretrained(\n",
    "    hf_modelname,\n",
    "    padding_side=\"left\",\n",
    "    add_eos_token=True,\n",
    "    add_bos_token=True,\n",
    "    use_fast=False,\n",
    "    token=access_token\n",
    ")\n",
    "tokenizer.pad_token = tokenizer.eos_token\n"
   ]
  },
  {
   "cell_type": "code",
   "execution_count": 9,
   "metadata": {
    "colab": {
     "base_uri": "https://localhost:8080/"
    },
    "id": "vjsBRZo8zvjQ",
    "outputId": "b70769da-814f-4316-89da-ce2d35a6ae2c"
   },
   "outputs": [
    {
     "name": "stdout",
     "output_type": "stream",
     "text": [
      "True cuda:0\n"
     ]
    },
    {
     "data": {
      "text/plain": [
       "7241732096"
      ]
     },
     "execution_count": 9,
     "metadata": {},
     "output_type": "execute_result"
    }
   ],
   "source": [
    "import torch\n",
    "print(torch.cuda.is_available(), model.device)\n",
    "model.num_parameters()"
   ]
  },
  {
   "cell_type": "code",
   "execution_count": 10,
   "metadata": {
    "colab": {
     "base_uri": "https://localhost:8080/"
    },
    "id": "Gk8GS4gWA5_C",
    "outputId": "e7e1b282-93b1-49ff-e07a-a349bf786eae"
   },
   "outputs": [
    {
     "data": {
      "text/plain": [
       "262410240"
      ]
     },
     "execution_count": 10,
     "metadata": {},
     "output_type": "execute_result"
    }
   ],
   "source": [
    "import numpy as np\n",
    "import pandas as pd\n",
    "\n",
    "def count_trainable_parameters(model):\n",
    "    model_parameters = filter(lambda p: p.requires_grad, model.parameters())\n",
    "    params = sum([np.prod(p.size()) for p in model_parameters])\n",
    "    return params\n",
    "count_trainable_parameters(model)"
   ]
  },
  {
   "cell_type": "code",
   "execution_count": 8,
   "metadata": {
    "id": "G3iNGsoQtA_E"
   },
   "outputs": [],
   "source": [
    "import locale\n",
    "locale.getpreferredencoding = lambda: \"UTF-8\""
   ]
  },
  {
   "cell_type": "code",
   "execution_count": 20,
   "metadata": {
    "colab": {
     "base_uri": "https://localhost:8080/"
    },
    "id": "p0P-Y9Sw7Odu",
    "outputId": "bb0dc033-56f7-45fa-b982-8d317dbcfee0"
   },
   "outputs": [
    {
     "name": "stdout",
     "output_type": "stream",
     "text": [
      "Thu Feb 29 10:38:10 2024       \n",
      "+---------------------------------------------------------------------------------------+\n",
      "| NVIDIA-SMI 545.23.08              Driver Version: 545.23.08    CUDA Version: 12.3     |\n",
      "|-----------------------------------------+----------------------+----------------------+\n",
      "| GPU  Name                 Persistence-M | Bus-Id        Disp.A | Volatile Uncorr. ECC |\n",
      "| Fan  Temp   Perf          Pwr:Usage/Cap |         Memory-Usage | GPU-Util  Compute M. |\n",
      "|                                         |                      |               MIG M. |\n",
      "|=========================================+======================+======================|\n",
      "|   0  NVIDIA L40                     On  | 00000000:00:06.0 Off |                    0 |\n",
      "| N/A   42C    P0             105W / 300W |   5568MiB / 46068MiB |      0%      Default |\n",
      "|                                         |                      |                  N/A |\n",
      "+-----------------------------------------+----------------------+----------------------+\n",
      "                                                                                         \n",
      "+---------------------------------------------------------------------------------------+\n",
      "| Processes:                                                                            |\n",
      "|  GPU   GI   CI        PID   Type   Process name                            GPU Memory |\n",
      "|        ID   ID                                                             Usage      |\n",
      "|=======================================================================================|\n",
      "+---------------------------------------------------------------------------------------+\n"
     ]
    }
   ],
   "source": [
    "!nvidia-smi"
   ]
  },
  {
   "cell_type": "code",
   "execution_count": 19,
   "metadata": {
    "colab": {
     "base_uri": "https://localhost:8080/"
    },
    "id": "-ZRUreX27p_F",
    "outputId": "01262e61-bef2-41c3-9f4c-7bc77bddb6cb"
   },
   "outputs": [
    {
     "name": "stderr",
     "output_type": "stream",
     "text": [
      "The attention mask and the pad token id were not set. As a consequence, you may observe unexpected behavior. Please pass your input's `attention_mask` to obtain reliable results.\n",
      "Setting `pad_token_id` to `eos_token_id`:2 for open-end generation.\n",
      "A decoder-only architecture is being used, but right-padding was detected! For correct generation results, please set `padding_side='left'` when initializing the tokenizer.\n"
     ]
    },
    {
     "name": "stdout",
     "output_type": "stream",
     "text": [
      "<s> [INST]Give me an email-only content calendar for activating users that haven't used my service in more than 3 months.\n",
      "  The service is an online marketplace for prospective home buyers to find houses and apartments in the Netherlands.\n",
      "  Instructions: for each content idea provided, give me why this is something that makes sense for activating dormant users,\n",
      "  and how to adjust the content strategy depending on whether it has been successful at activating the user after each month.\n",
      "  [/INST] </s>1. **Welcome Back Email (Month 1)**\n",
      "   Reason: A warm welcome email is a great way to re-introduce your service to dormant users and remind them of the benefits they received when they were active.\n",
      "   Content: Personalized greeting, a brief summary of new features or improvements since their last visit, and a call-to-action (CTA) to explore the platform.\n",
      "   Strategy: Monitor open and click-through rates (CTR) to gauge interest. If the response is low, consider offering a special promotion or incentive in the next email.\n",
      "\n",
      "2. **Personalized Property Recommendations (Month 1-3)**\n",
      "   Reason: Provide users with a curated selection of properties based on their past searches and preferences to re-engage them with the platform.\n",
      "   Content: Personalized email with property images, location, price, and a CTA to view more details.\n",
      "   Strategy: Analyze CTR and user engagement with the recommended properties. If users are not showing interest, consider refining the property selection algorithm or offering more detailed information in the emails.\n",
      "\n",
      "3. **Educational Content (Month 2-3)**\n",
      "   Reason: Share valuable and informative content related to the home buying process to demonstrate the value of your service and position yourself as a trusted resource.\n",
      "   Content: Blog articles, infographics, or videos on topics like mortgage options, neighborhood guides, or home buying tips.\n",
      "   Strategy: Monitor engagement metrics like open and click-through rates, time spent on the website, and user feedback. If users are not responding, consider adjusting the content format or topics to better resonate with their interests.\n",
      "\n",
      "4. **Special Promotions or Incentives (Month 3)**\n"
     ]
    }
   ],
   "source": [
    "inputs = tokenizer(\"\"\"[INST]Give me an email-only content calendar for activating users that haven't used my service in more than 3 months.\n",
    "  The service is an online marketplace for prospective home buyers to find houses and apartments in the Netherlands.\n",
    "  Instructions: for each content idea provided, give me why this is something that makes sense for activating dormant users,\n",
    "  and how to adjust the content strategy depending on whether it has been successful at activating the user after each month.\n",
    "  [/INST]\"\"\",\n",
    "                   return_tensors=\"pt\", return_attention_mask=False).to(\"cuda\")\n",
    "\n",
    "outputs = model.generate(**inputs, max_length=500)\n",
    "text = tokenizer.batch_decode(outputs)[0]\n",
    "print(text)"
   ]
  },
  {
   "cell_type": "code",
   "execution_count": 21,
   "metadata": {
    "id": "d4_e7WOi2p6s"
   },
   "outputs": [
    {
     "data": {
      "application/vnd.jupyter.widget-view+json": {
       "model_id": "d587bb34f5a4466599b0e6e733d73b20",
       "version_major": 2,
       "version_minor": 0
      },
      "text/plain": [
       "Generating train split: 0 examples [00:00, ? examples/s]"
      ]
     },
     "metadata": {},
     "output_type": "display_data"
    }
   ],
   "source": [
    "# with open('finetune-emails.txt', 'r') as file:\n",
    "#     text = ''.join([row for row in file.readlines() if row != '\\n'])\n",
    "# with open('sadyr_preprocessed.txt', 'w') as file:\n",
    "#     file.write(text)\n",
    "\n",
    "from datasets import load_dataset\n",
    "dataset = load_dataset(path='text', data_files='finetune-emails.txt', split='train')\n",
    "dataset = dataset.train_test_split(train_size=0.9)"
   ]
  },
  {
   "cell_type": "code",
   "execution_count": 22,
   "metadata": {
    "colab": {
     "base_uri": "https://localhost:8080/"
    },
    "id": "1YGB8EZ9AYY7",
    "outputId": "c53417bc-105a-4989-94e0-ed78798a2e98"
   },
   "outputs": [
    {
     "data": {
      "text/plain": [
       "(Dataset({\n",
       "     features: ['text'],\n",
       "     num_rows: 30132\n",
       " }),\n",
       " Dataset({\n",
       "     features: ['text'],\n",
       "     num_rows: 3349\n",
       " }))"
      ]
     },
     "execution_count": 22,
     "metadata": {},
     "output_type": "execute_result"
    }
   ],
   "source": [
    "dataset['train'], dataset['test']"
   ]
  },
  {
   "cell_type": "code",
   "execution_count": 23,
   "metadata": {
    "colab": {
     "base_uri": "https://localhost:8080/",
     "height": 81,
     "referenced_widgets": [
      "1a66559c14b14e86ac3e38581c87d773",
      "bf091b6addf846bf881bdddcaa1d292f",
      "9ff5bf96034e4982be9a296658e18b28",
      "08d4c699bdac443cb2696a9016bab802",
      "48c3a62fa47a404ea92e1c17fc7b50eb",
      "27b71e0556d84b62ab024d6df25f5422",
      "72bb036a5c264621b85589199debd8cf",
      "c2c7d284450841259db296c370886281",
      "36f6e9448580497bbfb47b2dde1e2bf4",
      "cef43065c0cd4a58b04212cefd61106c",
      "c200736bc07e4c35a95e8a923e225d28",
      "5f462014cb824dea9bec2ae36f7f01ad",
      "1f2c71bf1e9348518fae1c087ffe1b72",
      "295cc2482da0441080cc3404f488d09c",
      "3bcbf7ccbecb4b6aab73017ec7c6da05",
      "661fa7e195d844a482a212be4c4ee79c",
      "905184dcef1f4df1b8568a6aa8d1882c",
      "cb334193ef184a80ac76acafc42e9e15",
      "05849d81ea3c476399fa16ed04df701e",
      "11c77b811e0745569b4dc40685f71b6e",
      "75756ad6cd8c4556beb9bb1f36da3c84",
      "5d792d0310e94385bd150658adf60c34"
     ]
    },
    "id": "rR2_x3G8ALfi",
    "outputId": "5fe0b580-107d-41b6-9a23-22b8f1a4848c"
   },
   "outputs": [
    {
     "data": {
      "application/vnd.jupyter.widget-view+json": {
       "model_id": "4613dde91ba04c9eb7073a9fec4dad04",
       "version_major": 2,
       "version_minor": 0
      },
      "text/plain": [
       "Map:   0%|          | 0/30132 [00:00<?, ? examples/s]"
      ]
     },
     "metadata": {},
     "output_type": "display_data"
    },
    {
     "data": {
      "application/vnd.jupyter.widget-view+json": {
       "model_id": "78ce15b197874f509b439648f2234198",
       "version_major": 2,
       "version_minor": 0
      },
      "text/plain": [
       "Map:   0%|          | 0/3349 [00:00<?, ? examples/s]"
      ]
     },
     "metadata": {},
     "output_type": "display_data"
    }
   ],
   "source": [
    "generate_and_tokenize_prompt = lambda prompt: tokenizer(prompt['text'])\n",
    "\n",
    "tokenized_train_dataset = dataset['train'].map(generate_and_tokenize_prompt)\n",
    "tokenized_val_dataset = dataset['test'].map(generate_and_tokenize_prompt)"
   ]
  },
  {
   "cell_type": "code",
   "execution_count": 15,
   "metadata": {
    "colab": {
     "base_uri": "https://localhost:8080/",
     "height": 582
    },
    "id": "MC7quQviA-3G",
    "outputId": "12c943f5-be52-42fc-ea89-68765bb521ff"
   },
   "outputs": [
    {
     "name": "stdout",
     "output_type": "stream",
     "text": [
      "33481\n"
     ]
    },
    {
     "data": {
      "image/png": "[encoded data removed]",
      "text/plain": [
       "<Figure size 1000x600 with 1 Axes>"
      ]
     },
     "metadata": {},
     "output_type": "display_data"
    }
   ],
   "source": [
    "import matplotlib.pyplot as plt\n",
    "\n",
    "def plot_data_lengths(tokenized_train_dataset, tokenized_val_dataset):\n",
    "    lengths = [len(x['input_ids']) for x in tokenized_train_dataset]\n",
    "    lengths += [len(x['input_ids']) for x in tokenized_val_dataset]\n",
    "    print(len(lengths))\n",
    "\n",
    "    # Plotting the histogram\n",
    "    plt.figure(figsize=(10, 6))\n",
    "    plt.hist(lengths, bins=20, alpha=0.7, color='blue')\n",
    "    plt.xlabel('Length of input_ids')\n",
    "    plt.ylabel('Frequency')\n",
    "    plt.title('Distribution of Lengths of input_ids')\n",
    "    plt.show()\n",
    "\n",
    "plot_data_lengths(tokenized_train_dataset, tokenized_val_dataset)\n"
   ]
  },
  {
   "cell_type": "code",
   "execution_count": 24,
   "metadata": {
    "id": "KE58ylPYA_h3"
   },
   "outputs": [],
   "source": [
    "from peft import prepare_model_for_kbit_training\n",
    "\n",
    "model.gradient_checkpointing_enable()\n",
    "model = prepare_model_for_kbit_training(model)\n"
   ]
  },
  {
   "cell_type": "code",
   "execution_count": 28,
   "metadata": {
    "colab": {
     "base_uri": "https://localhost:8080/"
    },
    "id": "gy8GfYh9IQn9",
    "outputId": "9b3d5eec-3b76-417a-b449-46dbbd1510a7"
   },
   "outputs": [
    {
     "name": "stdout",
     "output_type": "stream",
     "text": [
      "PeftModelForCausalLM(\n",
      "  (base_model): LoraModel(\n",
      "    (model): MistralForCausalLM(\n",
      "      (model): MistralModel(\n",
      "        (embed_tokens): Embedding(32000, 4096)\n",
      "        (layers): ModuleList(\n",
      "          (0-31): 32 x MistralDecoderLayer(\n",
      "            (self_attn): MistralAttention(\n",
      "              (q_proj): lora.Linear4bit(\n",
      "                (base_layer): Linear4bit(in_features=4096, out_features=4096, bias=False)\n",
      "                (lora_dropout): ModuleDict(\n",
      "                  (default): Dropout(p=0.05, inplace=False)\n",
      "                )\n",
      "                (lora_A): ModuleDict(\n",
      "                  (default): Linear(in_features=4096, out_features=32, bias=False)\n",
      "                )\n",
      "                (lora_B): ModuleDict(\n",
      "                  (default): Linear(in_features=32, out_features=4096, bias=False)\n",
      "                )\n",
      "                (lora_embedding_A): ParameterDict()\n",
      "                (lora_embedding_B): ParameterDict()\n",
      "              )\n",
      "              (k_proj): lora.Linear4bit(\n",
      "                (base_layer): Linear4bit(in_features=4096, out_features=1024, bias=False)\n",
      "                (lora_dropout): ModuleDict(\n",
      "                  (default): Dropout(p=0.05, inplace=False)\n",
      "                )\n",
      "                (lora_A): ModuleDict(\n",
      "                  (default): Linear(in_features=4096, out_features=32, bias=False)\n",
      "                )\n",
      "                (lora_B): ModuleDict(\n",
      "                  (default): Linear(in_features=32, out_features=1024, bias=False)\n",
      "                )\n",
      "                (lora_embedding_A): ParameterDict()\n",
      "                (lora_embedding_B): ParameterDict()\n",
      "              )\n",
      "              (v_proj): lora.Linear4bit(\n",
      "                (base_layer): Linear4bit(in_features=4096, out_features=1024, bias=False)\n",
      "                (lora_dropout): ModuleDict(\n",
      "                  (default): Dropout(p=0.05, inplace=False)\n",
      "                )\n",
      "                (lora_A): ModuleDict(\n",
      "                  (default): Linear(in_features=4096, out_features=32, bias=False)\n",
      "                )\n",
      "                (lora_B): ModuleDict(\n",
      "                  (default): Linear(in_features=32, out_features=1024, bias=False)\n",
      "                )\n",
      "                (lora_embedding_A): ParameterDict()\n",
      "                (lora_embedding_B): ParameterDict()\n",
      "              )\n",
      "              (o_proj): Linear4bit(in_features=4096, out_features=4096, bias=False)\n",
      "              (rotary_emb): MistralRotaryEmbedding()\n",
      "            )\n",
      "            (mlp): MistralMLP(\n",
      "              (gate_proj): lora.Linear4bit(\n",
      "                (base_layer): Linear4bit(in_features=4096, out_features=14336, bias=False)\n",
      "                (lora_dropout): ModuleDict(\n",
      "                  (default): Dropout(p=0.05, inplace=False)\n",
      "                )\n",
      "                (lora_A): ModuleDict(\n",
      "                  (default): Linear(in_features=4096, out_features=32, bias=False)\n",
      "                )\n",
      "                (lora_B): ModuleDict(\n",
      "                  (default): Linear(in_features=32, out_features=14336, bias=False)\n",
      "                )\n",
      "                (lora_embedding_A): ParameterDict()\n",
      "                (lora_embedding_B): ParameterDict()\n",
      "              )\n",
      "              (up_proj): lora.Linear4bit(\n",
      "                (base_layer): Linear4bit(in_features=4096, out_features=14336, bias=False)\n",
      "                (lora_dropout): ModuleDict(\n",
      "                  (default): Dropout(p=0.05, inplace=False)\n",
      "                )\n",
      "                (lora_A): ModuleDict(\n",
      "                  (default): Linear(in_features=4096, out_features=32, bias=False)\n",
      "                )\n",
      "                (lora_B): ModuleDict(\n",
      "                  (default): Linear(in_features=32, out_features=14336, bias=False)\n",
      "                )\n",
      "                (lora_embedding_A): ParameterDict()\n",
      "                (lora_embedding_B): ParameterDict()\n",
      "              )\n",
      "              (down_proj): lora.Linear4bit(\n",
      "                (base_layer): Linear4bit(in_features=14336, out_features=4096, bias=False)\n",
      "                (lora_dropout): ModuleDict(\n",
      "                  (default): Dropout(p=0.05, inplace=False)\n",
      "                )\n",
      "                (lora_A): ModuleDict(\n",
      "                  (default): Linear(in_features=14336, out_features=32, bias=False)\n",
      "                )\n",
      "                (lora_B): ModuleDict(\n",
      "                  (default): Linear(in_features=32, out_features=4096, bias=False)\n",
      "                )\n",
      "                (lora_embedding_A): ParameterDict()\n",
      "                (lora_embedding_B): ParameterDict()\n",
      "              )\n",
      "              (act_fn): SiLU()\n",
      "            )\n",
      "            (input_layernorm): MistralRMSNorm()\n",
      "            (post_attention_layernorm): MistralRMSNorm()\n",
      "          )\n",
      "        )\n",
      "        (norm): MistralRMSNorm()\n",
      "      )\n",
      "      (lm_head): Linear(in_features=4096, out_features=32000, bias=False)\n",
      "    )\n",
      "  )\n",
      ")\n"
     ]
    }
   ],
   "source": [
    "print(model)"
   ]
  },
  {
   "cell_type": "code",
   "execution_count": 26,
   "metadata": {
    "id": "L-BDW0myBNog"
   },
   "outputs": [],
   "source": [
    "from peft import LoraConfig, get_peft_model\n",
    "\n",
    "config = LoraConfig(\n",
    "    r=32,\n",
    "    lora_alpha=64,\n",
    "    target_modules=[\n",
    "        \"q_proj\",\n",
    "        \"k_proj\",\n",
    "        \"v_proj\",\n",
    "        # \"dense\",\n",
    "        \"gate_proj\",\n",
    "        \"up_proj\",\n",
    "        \"down_proj\",\n",
    "        # \"lm_head\",\n",
    "    ],\n",
    "    bias=\"none\",\n",
    "    lora_dropout=0.05,  # Conventional\n",
    "    task_type=\"CAUSAL_LM\",\n",
    ")\n",
    "\n",
    "model = get_peft_model(model, config)\n",
    "# print_trainable_parameters(model)\n"
   ]
  },
  {
   "cell_type": "code",
   "execution_count": 27,
   "metadata": {
    "colab": {
     "base_uri": "https://localhost:8080/",
     "height": 35
    },
    "id": "1ysNNsIFBTQV",
    "outputId": "89f5c35d-d9eb-41cd-9511-4b02e30f2cf0"
   },
   "outputs": [
    {
     "data": {
      "text/plain": [
       "'trainable params: 1.0317767305015078'"
      ]
     },
     "execution_count": 27,
     "metadata": {},
     "output_type": "execute_result"
    }
   ],
   "source": [
    "f'trainable params: {100 * count_trainable_parameters(model) / model.num_parameters()}'"
   ]
  },
  {
   "cell_type": "code",
   "execution_count": 12,
   "metadata": {
    "id": "OsOydCvMDjIT"
   },
   "outputs": [],
   "source": [
    "# from accelerate import FullyShardedDataParallelPlugin, Accelerator\n",
    "# from torch.distributed.fsdp.fully_sharded_data_parallel import FullOptimStateDictConfig, FullStateDictConfig\n",
    "\n",
    "# fsdp_plugin = FullyShardedDataParallelPlugin(\n",
    "#     state_dict_config=FullStateDictConfig(offload_to_cpu=True, rank0_only=False),\n",
    "#     optim_state_dict_config=FullOptimStateDictConfig(offload_to_cpu=True, rank0_only=False),\n",
    "# )\n",
    "\n",
    "# accelerator = Accelerator(fsdp_plugin=fsdp_plugin)\n",
    "# model = accelerator.prepare_model(model)\n"
   ]
  },
  {
   "cell_type": "code",
   "execution_count": 31,
   "metadata": {
    "colab": {
     "base_uri": "https://localhost:8080/",
     "height": 555
    },
    "id": "b-zP3fSsBfgN",
    "outputId": "ac5c246e-8e5f-4809-95ab-4e66fa9b268c"
   },
   "outputs": [
    {
     "name": "stderr",
     "output_type": "stream",
     "text": [
      "Detected kernel version 5.4.0, which is below the recommended minimum of 5.5.0; this can cause the process to hang. It is recommended to upgrade the kernel to the minimum version or higher.\n"
     ]
    },
    {
     "data": {
      "text/html": [
       "\n",
       "    <div>\n",
       "      \n",
       "      <progress value='942' max='942' style='width:300px; height:20px; vertical-align: middle;'></progress>\n",
       "      [942/942 1:25:03, Epoch 2/2]\n",
       "    </div>\n",
       "    <table border=\"1\" class=\"dataframe\">\n",
       "  <thead>\n",
       " <tr style=\"text-align: left;\">\n",
       "      <th>Step</th>\n",
       "      <th>Training Loss</th>\n",
       "      <th>Validation Loss</th>\n",
       "    </tr>\n",
       "  </thead>\n",
       "  <tbody>\n",
       "    <tr>\n",
       "      <td>100</td>\n",
       "      <td>1.688500</td>\n",
       "      <td>1.578887</td>\n",
       "    </tr>\n",
       "    <tr>\n",
       "      <td>200</td>\n",
       "      <td>1.433700</td>\n",
       "      <td>1.389078</td>\n",
       "    </tr>\n",
       "    <tr>\n",
       "      <td>300</td>\n",
       "      <td>1.329900</td>\n",
       "      <td>1.320793</td>\n",
       "    </tr>\n",
       "    <tr>\n",
       "      <td>400</td>\n",
       "      <td>1.295300</td>\n",
       "      <td>1.277465</td>\n",
       "    </tr>\n",
       "    <tr>\n",
       "      <td>500</td>\n",
       "      <td>1.220100</td>\n",
       "      <td>1.251784</td>\n",
       "    </tr>\n",
       "    <tr>\n",
       "      <td>600</td>\n",
       "      <td>1.217600</td>\n",
       "      <td>1.234480</td>\n",
       "    </tr>\n",
       "    <tr>\n",
       "      <td>700</td>\n",
       "      <td>1.191600</td>\n",
       "      <td>1.219666</td>\n",
       "    </tr>\n",
       "    <tr>\n",
       "      <td>800</td>\n",
       "      <td>1.195000</td>\n",
       "      <td>1.211399</td>\n",
       "    </tr>\n",
       "    <tr>\n",
       "      <td>900</td>\n",
       "      <td>1.192000</td>\n",
       "      <td>1.206270</td>\n",
       "    </tr>\n",
       "  </tbody>\n",
       "</table><p>"
      ],
      "text/plain": [
       "<IPython.core.display.HTML object>"
      ]
     },
     "metadata": {},
     "output_type": "display_data"
    },
    {
     "name": "stderr",
     "output_type": "stream",
     "text": [
      "/usr/local/lib/python3.10/dist-packages/torch/utils/checkpoint.py:429: UserWarning: torch.utils.checkpoint: please pass in use_reentrant=True or use_reentrant=False explicitly. The default value of use_reentrant will be updated to be False in the future. To maintain current behavior, pass use_reentrant=True. It is recommended that you use use_reentrant=False. Refer to docs for more details on the differences between the two variants.\n",
      "  warnings.warn(\n",
      "/usr/local/lib/python3.10/dist-packages/torch/utils/checkpoint.py:429: UserWarning: torch.utils.checkpoint: please pass in use_reentrant=True or use_reentrant=False explicitly. The default value of use_reentrant will be updated to be False in the future. To maintain current behavior, pass use_reentrant=True. It is recommended that you use use_reentrant=False. Refer to docs for more details on the differences between the two variants.\n",
      "  warnings.warn(\n",
      "/usr/local/lib/python3.10/dist-packages/torch/utils/checkpoint.py:429: UserWarning: torch.utils.checkpoint: please pass in use_reentrant=True or use_reentrant=False explicitly. The default value of use_reentrant will be updated to be False in the future. To maintain current behavior, pass use_reentrant=True. It is recommended that you use use_reentrant=False. Refer to docs for more details on the differences between the two variants.\n",
      "  warnings.warn(\n",
      "/usr/local/lib/python3.10/dist-packages/torch/utils/checkpoint.py:429: UserWarning: torch.utils.checkpoint: please pass in use_reentrant=True or use_reentrant=False explicitly. The default value of use_reentrant will be updated to be False in the future. To maintain current behavior, pass use_reentrant=True. It is recommended that you use use_reentrant=False. Refer to docs for more details on the differences between the two variants.\n",
      "  warnings.warn(\n",
      "/usr/local/lib/python3.10/dist-packages/torch/utils/checkpoint.py:429: UserWarning: torch.utils.checkpoint: please pass in use_reentrant=True or use_reentrant=False explicitly. The default value of use_reentrant will be updated to be False in the future. To maintain current behavior, pass use_reentrant=True. It is recommended that you use use_reentrant=False. Refer to docs for more details on the differences between the two variants.\n",
      "  warnings.warn(\n",
      "/usr/local/lib/python3.10/dist-packages/torch/utils/checkpoint.py:429: UserWarning: torch.utils.checkpoint: please pass in use_reentrant=True or use_reentrant=False explicitly. The default value of use_reentrant will be updated to be False in the future. To maintain current behavior, pass use_reentrant=True. It is recommended that you use use_reentrant=False. Refer to docs for more details on the differences between the two variants.\n",
      "  warnings.warn(\n",
      "/usr/local/lib/python3.10/dist-packages/torch/utils/checkpoint.py:429: UserWarning: torch.utils.checkpoint: please pass in use_reentrant=True or use_reentrant=False explicitly. The default value of use_reentrant will be updated to be False in the future. To maintain current behavior, pass use_reentrant=True. It is recommended that you use use_reentrant=False. Refer to docs for more details on the differences between the two variants.\n",
      "  warnings.warn(\n",
      "/usr/local/lib/python3.10/dist-packages/torch/utils/checkpoint.py:429: UserWarning: torch.utils.checkpoint: please pass in use_reentrant=True or use_reentrant=False explicitly. The default value of use_reentrant will be updated to be False in the future. To maintain current behavior, pass use_reentrant=True. It is recommended that you use use_reentrant=False. Refer to docs for more details on the differences between the two variants.\n",
      "  warnings.warn(\n",
      "/usr/local/lib/python3.10/dist-packages/torch/utils/checkpoint.py:429: UserWarning: torch.utils.checkpoint: please pass in use_reentrant=True or use_reentrant=False explicitly. The default value of use_reentrant will be updated to be False in the future. To maintain current behavior, pass use_reentrant=True. It is recommended that you use use_reentrant=False. Refer to docs for more details on the differences between the two variants.\n",
      "  warnings.warn(\n"
     ]
    },
    {
     "data": {
      "text/plain": [
       "TrainOutput(global_step=942, training_loss=1.363041420144893, metrics={'train_runtime': 5108.2986, 'train_samples_per_second': 11.797, 'train_steps_per_second': 0.184, 'total_flos': 2.401910503810007e+17, 'train_loss': 1.363041420144893, 'epoch': 2.0})"
      ]
     },
     "execution_count": 31,
     "metadata": {},
     "output_type": "execute_result"
    }
   ],
   "source": [
    "if torch.cuda.device_count() > 1: # If more than 1 GPU\n",
    "    model.is_parallelizable = True\n",
    "    model.model_parallel = True\n",
    "\n",
    "\n",
    "import transformers\n",
    "from datetime import datetime\n",
    "\n",
    "project = \"emails\"\n",
    "base_model_name = \"mistral-7b-it\"\n",
    "run_name = base_model_name + \"-\" + project\n",
    "output_dir = \"./\" + run_name\n",
    "\n",
    "trainer = transformers.Trainer(\n",
    "    model=model,\n",
    "    train_dataset=tokenized_train_dataset,\n",
    "    eval_dataset=tokenized_val_dataset,\n",
    "    args=transformers.TrainingArguments(\n",
    "        output_dir=output_dir,\n",
    "        warmup_steps=1,\n",
    "        # per_device_train_batch_size=2,\n",
    "        gradient_accumulation_steps=1,\n",
    "        gradient_checkpointing=True,\n",
    "        # max_steps=500,\n",
    "        num_train_epochs=2,\n",
    "        learning_rate=1e-5, # Want a small lr for finetuning\n",
    "        bf16=True,\n",
    "        # fp16=True,\n",
    "        optim=\"paged_adamw_8bit\",\n",
    "        per_device_train_batch_size=64,\n",
    "        per_device_eval_batch_size=64,\n",
    "        # optim=\"paged_adamw_32bit\",\n",
    "        logging_steps=25,              # When to start reporting loss\n",
    "        logging_dir=\"./logs\",        # Directory for storing logs\n",
    "        save_strategy=\"steps\",       # Save the model checkpoint every logging step\n",
    "        save_steps=100,                # Save checkpoints every 50 steps\n",
    "        evaluation_strategy=\"steps\", # Evaluate the model every logging step\n",
    "        eval_steps=100,               # Evaluate and save checkpoints every 50 steps\n",
    "        do_eval=True,                # Perform evaluation at the end of training\n",
    "        # report_to=\"wandb\",           # Comment this out if you don't want to use weights & baises\n",
    "        # run_name=f\"{run_name}-{datetime.now().strftime('%Y-%m-%d-%H-%M')}\"          # Name of the W&B run (optional)\n",
    "    ),\n",
    "    data_collator=transformers.DataCollatorForLanguageModeling(tokenizer, mlm=False),\n",
    ")\n",
    "\n",
    "model.config.use_cache = False  # silence the warnings. Please re-enable for inference!\n",
    "trainer.train()"
   ]
  },
  {
   "cell_type": "code",
   "execution_count": 32,
   "metadata": {},
   "outputs": [
    {
     "name": "stdout",
     "output_type": "stream",
     "text": [
      "Thu Feb 29 12:07:27 2024       \n",
      "+---------------------------------------------------------------------------------------+\n",
      "| NVIDIA-SMI 545.23.08              Driver Version: 545.23.08    CUDA Version: 12.3     |\n",
      "|-----------------------------------------+----------------------+----------------------+\n",
      "| GPU  Name                 Persistence-M | Bus-Id        Disp.A | Volatile Uncorr. ECC |\n",
      "| Fan  Temp   Perf          Pwr:Usage/Cap |         Memory-Usage | GPU-Util  Compute M. |\n",
      "|                                         |                      |               MIG M. |\n",
      "|=========================================+======================+======================|\n",
      "|   0  NVIDIA L40                     On  | 00000000:00:06.0 Off |                    0 |\n",
      "| N/A   56C    P0              89W / 300W |  32742MiB / 46068MiB |      0%      Default |\n",
      "|                                         |                      |                  N/A |\n",
      "+-----------------------------------------+----------------------+----------------------+\n",
      "                                                                                         \n",
      "+---------------------------------------------------------------------------------------+\n",
      "| Processes:                                                                            |\n",
      "|  GPU   GI   CI        PID   Type   Process name                            GPU Memory |\n",
      "|        ID   ID                                                             Usage      |\n",
      "|=======================================================================================|\n",
      "+---------------------------------------------------------------------------------------+\n"
     ]
    }
   ],
   "source": [
    "!nvidia-smi"
   ]
  },
  {
   "cell_type": "code",
   "execution_count": 33,
   "metadata": {},
   "outputs": [
    {
     "data": {
      "application/vnd.jupyter.widget-view+json": {
       "model_id": "7f805948a42f42658c5319f4945383e7",
       "version_major": 2,
       "version_minor": 0
      },
      "text/plain": [
       "Downloading shards:   0%|          | 0/3 [00:00<?, ?it/s]"
      ]
     },
     "metadata": {},
     "output_type": "display_data"
    },
    {
     "data": {
      "application/vnd.jupyter.widget-view+json": {
       "model_id": "344bf5222c6047aa93b8e5427c091c4c",
       "version_major": 2,
       "version_minor": 0
      },
      "text/plain": [
       "Loading checkpoint shards:   0%|          | 0/3 [00:00<?, ?it/s]"
      ]
     },
     "metadata": {},
     "output_type": "display_data"
    }
   ],
   "source": [
    "import accelerate\n",
    "\n",
    "import torch\n",
    "from transformers import AutoTokenizer, AutoModelForCausalLM, BitsAndBytesConfig\n",
    "\n",
    "\n",
    "bnb_config = BitsAndBytesConfig(\n",
    "    load_in_4bit=True,\n",
    "    bnb_4bit_use_double_quant=True,\n",
    "    bnb_4bit_quant_type=\"nf4\",\n",
    "    bnb_4bit_compute_dtype=torch.bfloat16\n",
    "    # bnb_4bit_compute_dtype=torch.float16\n",
    ")\n",
    "\n",
    "model = AutoModelForCausalLM.from_pretrained(hf_modelname, device_map=\"auto\",\n",
    "                                             quantization_config=bnb_config,\n",
    "                                            #  torch_dtype=torch.float16, load_in_8bit=True,\n",
    "                                             token=access_token)\n",
    "# tokenizer = AutoTokenizer.from_pretrai\\ned(\"microsoft/phi-2\")#, trust_remote_code=True)\n",
    "\n",
    "tokenizer = AutoTokenizer.from_pretrained(\n",
    "    hf_modelname,\n",
    "    padding_side=\"left\",\n",
    "    add_eos_token=True,\n",
    "    add_bos_token=True,\n",
    "    use_fast=False,\n",
    "    token=access_token\n",
    ")\n",
    "tokenizer.pad_token = tokenizer.eos_token"
   ]
  },
  {
   "cell_type": "code",
   "execution_count": 36,
   "metadata": {},
   "outputs": [
    {
     "name": "stderr",
     "output_type": "stream",
     "text": [
      "The attention mask and the pad token id were not set. As a consequence, you may observe unexpected behavior. Please pass your input's `attention_mask` to obtain reliable results.\n",
      "Setting `pad_token_id` to `eos_token_id`:2 for open-end generation.\n",
      "A decoder-only architecture is being used, but right-padding was detected! For correct generation results, please set `padding_side='left'` when initializing the tokenizer.\n"
     ]
    },
    {
     "name": "stdout",
     "output_type": "stream",
     "text": [
      "mistral-7b-it-emails/checkpoint-100\n",
      "<s> [INST]Give me an email-only content calendar for activating users that haven't used my service in more than 3 months.\n",
      "          The service is an online marketplace for prospective home buyers to find houses and apartments in the Netherlands.\n",
      "          Instructions: for each content idea provided, give me why this is something that makes sense for activating dormant users,\n",
      "          and how to adjust the content strategy depending on whether it has been successful at activating the user after each month.\n",
      "          [/INST]</s>1. Welcome Back Email (Month 0):\n",
      "Reason: A simple and friendly reminder that they have an account with your service and that you've missed them.\n",
      "Content: \"Hi [Name], we've missed you! Welcome back to [Your Service]. We've got some great new listings for houses and apartments in the Netherlands that we think you'll love.\"\n",
      "Adjustment: If successful, follow up with a personalized email in the next month. If not, try the next content idea.\n",
      "\n",
      "2. Personalized Listings Email (Month 1):\n",
      "Reason: Show users relevant listings based on their past searches and preferences.\n",
      "Content: \"Hi [Name], we've found some houses and apartments in the Netherlands that match your past searches and preferences. Check them out!\"\n",
      "Adjustment: If successful, send a follow-up email with more personalized listings. If not, try the next content idea.\n",
      "\n",
      "3. Educational Email Series (Month 2):\n",
      "Reason: Provide users with valuable information about the home buying process and the Dutch real estate market.\n",
      "Content: \"Hi [Name], we know buying a house or apartment can be a complex process. That's why we've put together a series of educational emails to help you navigate the Dutch real estate market. Stay tuned for more!\"\n",
      "Adjustment: If successful, continue the email series. If not, try the next content idea.\n",
      "\n",
      "4. Exclusive Offer Email (Month 3):\n",
      "Reason: Offer users an exclusive discount or deal to incentivize them to return to your service.\n",
      "Content: \"Hi [Name], as a valued member of our community, we'd like to offer you an exclusive discount on your next purchase through [Your Service]. Use code WELCOMEBACK10 at check\n"
     ]
    },
    {
     "name": "stderr",
     "output_type": "stream",
     "text": [
      "The attention mask and the pad token id were not set. As a consequence, you may observe unexpected behavior. Please pass your input's `attention_mask` to obtain reliable results.\n",
      "Setting `pad_token_id` to `eos_token_id`:2 for open-end generation.\n",
      "A decoder-only architecture is being used, but right-padding was detected! For correct generation results, please set `padding_side='left'` when initializing the tokenizer.\n"
     ]
    },
    {
     "name": "stdout",
     "output_type": "stream",
     "text": [
      "mistral-7b-it-emails/checkpoint-200\n",
      "<s> [INST]Give me an email-only content calendar for activating users that haven't used my service in more than 3 months.\n",
      "          The service is an online marketplace for prospective home buyers to find houses and apartments in the Netherlands.\n",
      "          Instructions: for each content idea provided, give me why this is something that makes sense for activating dormant users,\n",
      "          and how to adjust the content strategy depending on whether it has been successful at activating the user after each month.\n",
      "          [/INST]</s>1. Welcome Back Email (Month 1):\n",
      "Reason: A simple and friendly reminder that they have an account with your service and that they might find something interesting.\n",
      "Content: \"Hi [Name], welcome back to [Your Service]! We've missed you and hope you're doing well. We'd love to help you find your dream home in the Netherlands. Check out the latest listings that might catch your eye.\"\n",
      "Adjustment: If the user clicks through and starts browsing, send them targeted recommendations based on their previous searches and saved properties.\n",
      "\n",
      "2. Personalized Property Recommendations (Month 1-2):\n",
      "Reason: Showing users properties that match their preferences and past searches can increase the chances of them finding something they like and re-engaging with the platform.\n",
      "Content: \"Hi [Name], we've found some properties that we think you'll love! Based on your previous searches and saved properties, we recommend checking out these listings.\"\n",
      "Adjustment: If the user clicks through and starts browsing, send them more targeted recommendations. If they don't engage, try sending them a different type of recommendation, such as popular listings or trending neighborhoods.\n",
      "\n",
      "3. Neighborhood Spotlight (Month 2):\n",
      "Reason: Introducing users to new neighborhoods and areas can help them expand their search and potentially find something they like.\n",
      "Content: \"Hi [Name], have you checked out the neighborhood of [Neighborhood Name] yet? It's a great area with [unique features or amenities]. Here are some properties currently available in the area.\"\n",
      "Adjustment: If the user clicks through and starts browsing, send them more recommendations for that neighborhood. If they don't engage, try sending them recommendations for a different neighborhood.\n",
      "\n",
      "\n"
     ]
    },
    {
     "name": "stderr",
     "output_type": "stream",
     "text": [
      "The attention mask and the pad token id were not set. As a consequence, you may observe unexpected behavior. Please pass your input's `attention_mask` to obtain reliable results.\n",
      "Setting `pad_token_id` to `eos_token_id`:2 for open-end generation.\n",
      "A decoder-only architecture is being used, but right-padding was detected! For correct generation results, please set `padding_side='left'` when initializing the tokenizer.\n"
     ]
    },
    {
     "name": "stdout",
     "output_type": "stream",
     "text": [
      "mistral-7b-it-emails/checkpoint-300\n",
      "<s> [INST]Give me an email-only content calendar for activating users that haven't used my service in more than 3 months.\n",
      "          The service is an online marketplace for prospective home buyers to find houses and apartments in the Netherlands.\n",
      "          Instructions: for each content idea provided, give me why this is something that makes sense for activating dormant users,\n",
      "          and how to adjust the content strategy depending on whether it has been successful at activating the user after each month.\n",
      "          [/INST]</s>1. Welcome Back Email (Month 1):\n",
      "Reason: A simple and friendly reminder that they have an account with your service and that they might find something interesting on the platform.\n",
      "Content Strategy: Include a call-to-action (CTA) button to encourage users to log back in and explore new listings.\n",
      "Adjustment: Monitor open and click-through rates (CTR) to determine if users are re-engaging with the platform. If not, consider offering a special promotion or discount to incentivize them to return.\n",
      "\n",
      "2. Personalized Listing Recommendations (Month 2):\n",
      "Reason: Provide users with a selection of properties that match their past search history and preferences.\n",
      "Content Strategy: Use dynamic content to tailor the email to each user's interests and location.\n",
      "Adjustment: Analyze CTR and user engagement with the recommended listings. If users are not showing interest, consider offering more diverse property types or expanding the search radius.\n",
      "\n",
      "3. Educational Content (Month 3):\n",
      "Reason: Share valuable information about the home buying process, neighborhood insights, and market trends to keep users engaged and informed.\n",
      "Content Strategy: Use a conversational tone and include visuals to make the content more engaging.\n",
      "Adjustment: Monitor user engagement and feedback to determine which topics resonate most with your audience. Adjust the content strategy accordingly to focus on the most popular topics.\n",
      "\n",
      "4. Exclusive Offers and Promotions (Month 4):\n",
      "Reason: Offer users limited-time discounts or special deals to incentivize them to return to the platform and make a purchase.\n",
      "Content Strategy: Use a clear and compelling CTA to encourage users to take advantage of the offer.\n",
      "Adjustment: Analyze the success of the promotion in terms of user engagement\n"
     ]
    },
    {
     "name": "stderr",
     "output_type": "stream",
     "text": [
      "The attention mask and the pad token id were not set. As a consequence, you may observe unexpected behavior. Please pass your input's `attention_mask` to obtain reliable results.\n",
      "Setting `pad_token_id` to `eos_token_id`:2 for open-end generation.\n",
      "A decoder-only architecture is being used, but right-padding was detected! For correct generation results, please set `padding_side='left'` when initializing the tokenizer.\n"
     ]
    },
    {
     "name": "stdout",
     "output_type": "stream",
     "text": [
      "mistral-7b-it-emails/checkpoint-400\n",
      "<s> [INST]Give me an email-only content calendar for activating users that haven't used my service in more than 3 months.\n",
      "          The service is an online marketplace for prospective home buyers to find houses and apartments in the Netherlands.\n",
      "          Instructions: for each content idea provided, give me why this is something that makes sense for activating dormant users,\n",
      "          and how to adjust the content strategy depending on whether it has been successful at activating the user after each month.\n",
      "          [/INST]</s>1. Welcome Back Email (Month 1):\n",
      "Reason: A simple and friendly reminder that they have an account with your service and that you're glad they're back.\n",
      "Content Strategy: Include a brief update on new listings, recent sales, and any new features or improvements to the platform.\n",
      "Adjustment: If successful, continue sending monthly updates and offers. If not, consider sending more personalized and targeted emails.\n",
      "\n",
      "2. Personalized Property Recommendations (Month 2):\n",
      "Reason: Show users properties that match their past search history and preferences.\n",
      "Content Strategy: Include clear calls-to-action (CTAs) to encourage users to re-engage with the platform and view more properties.\n",
      "Adjustment: If successful, continue sending personalized recommendations. If not, consider sending more general offers or promotions.\n",
      "\n",
      "3. Exclusive Offers and Promotions (Month 3):\n",
      "Reason: Offer users exclusive deals or discounts to incentivize them to return to the platform.\n",
      "Content Strategy: Clearly communicate the value of the offer and the urgency to act.\n",
      "Adjustment: If successful, continue sending exclusive offers and promotions. If not, consider offering more valuable or targeted promotions.\n",
      "\n",
      "4. Educational Content (Month 4):\n",
      "Reason: Provide users with valuable and informative content related to the home buying process.\n",
      "Content Strategy: Offer articles, videos, and webinars on topics like mortgages, inspections, and neighborhood information.\n",
      "Adjustment: If successful, continue sending educational content. If not, consider offering more interactive or engaging content.\n",
      "\n",
      "5. Personalized Neighborhood Guides (Month 5):\n",
      "Reason: Offer users personalized guides to neighborhoods that match their preferences and search history.\n",
      "Content\n"
     ]
    },
    {
     "name": "stderr",
     "output_type": "stream",
     "text": [
      "The attention mask and the pad token id were not set. As a consequence, you may observe unexpected behavior. Please pass your input's `attention_mask` to obtain reliable results.\n",
      "Setting `pad_token_id` to `eos_token_id`:2 for open-end generation.\n",
      "A decoder-only architecture is being used, but right-padding was detected! For correct generation results, please set `padding_side='left'` when initializing the tokenizer.\n"
     ]
    },
    {
     "name": "stdout",
     "output_type": "stream",
     "text": [
      "mistral-7b-it-emails/checkpoint-500\n",
      "<s> [INST]Give me an email-only content calendar for activating users that haven't used my service in more than 3 months.\n",
      "          The service is an online marketplace for prospective home buyers to find houses and apartments in the Netherlands.\n",
      "          Instructions: for each content idea provided, give me why this is something that makes sense for activating dormant users,\n",
      "          and how to adjust the content strategy depending on whether it has been successful at activating the user after each month.\n",
      "          [/INST]</s>1. Welcome Back Email (Month 1):\n",
      "Reason: A simple and friendly reminder that they have an account with your service and that you're glad they're back.\n",
      "Content Strategy: Include a brief update on new listings, features, or promotions since their last visit.\n",
      "Adjustment: Monitor open and click-through rates to gauge interest and adjust the content accordingly.\n",
      "\n",
      "2. Personalized Property Recommendations (Month 2):\n",
      "Reason: Show users properties that match their past search history and preferences.\n",
      "Content Strategy: Include clear calls-to-action (CTAs) to encourage users to engage with the listings.\n",
      "Adjustment: Analyze user engagement with the recommended properties and adjust the algorithm accordingly.\n",
      "\n",
      "3. Exclusive Offers and Discounts (Month 3):\n",
      "Reason: Incentivize users to return by offering them exclusive deals or discounts.\n",
      "Content Strategy: Clearly communicate the value of these offers and make it easy for users to claim them.\n",
      "Adjustment: Track the redemption rate of the offers and adjust the frequency and types of offers accordingly.\n",
      "\n",
      "4. Educational Content (Month 4):\n",
      "Reason: Provide users with valuable information about the home buying process, neighborhoods, or market trends.\n",
      "Content Strategy: Use a mix of text, images, and videos to make the content engaging and easy to consume.\n",
      "Adjustment: Monitor user engagement and adjust the content to better meet their needs and interests.\n",
      "\n",
      "5. Social Proof and Testimonials (Month 5):\n",
      "Reason: Build trust and credibility by sharing positive reviews and testimonials from other users.\n",
      "Content Strategy: Use a variety of formats, such as text, images, and videos, to showcase the testimonials.\n",
      "Adjustment:\n"
     ]
    },
    {
     "name": "stderr",
     "output_type": "stream",
     "text": [
      "The attention mask and the pad token id were not set. As a consequence, you may observe unexpected behavior. Please pass your input's `attention_mask` to obtain reliable results.\n",
      "Setting `pad_token_id` to `eos_token_id`:2 for open-end generation.\n",
      "A decoder-only architecture is being used, but right-padding was detected! For correct generation results, please set `padding_side='left'` when initializing the tokenizer.\n"
     ]
    },
    {
     "name": "stdout",
     "output_type": "stream",
     "text": [
      "mistral-7b-it-emails/checkpoint-600\n",
      "<s> [INST]Give me an email-only content calendar for activating users that haven't used my service in more than 3 months.\n",
      "          The service is an online marketplace for prospective home buyers to find houses and apartments in the Netherlands.\n",
      "          Instructions: for each content idea provided, give me why this is something that makes sense for activating dormant users,\n",
      "          and how to adjust the content strategy depending on whether it has been successful at activating the user after each month.\n",
      "          [/INST]</s>1. Welcome Back Email (Month 1):\n",
      "Reason: A simple and friendly reminder that they have an account with your service and that they might find something interesting.\n",
      "Content Strategy: Include a personalized greeting, a brief update on new listings or features, and a clear call-to-action to log back in.\n",
      "\n",
      "2. Personalized Listings Email (Month 2):\n",
      "Reason: Show users that your service still adds value to their home buying journey by providing them with relevant listings.\n",
      "Content Strategy: Use their past search history and preferences to suggest properties that match their interests. Include a clear call-to-action to view more details or contact the seller.\n",
      "\n",
      "3. Educational Email Series (Month 3):\n",
      "Reason: Provide users with valuable information about the home buying process and the Dutch real estate market to keep them engaged.\n",
      "Content Strategy: Share articles, infographics, and videos on topics like mortgage options, neighborhood guides, and home buying tips. Include a clear call-to-action to read more or share the content with friends.\n",
      "\n",
      "4. Exclusive Offer Email (Month 4):\n",
      "Reason: Offer users a special deal or discount to incentivize them to return to your service and make a purchase.\n",
      "Content Strategy: Provide a limited-time offer on a popular property or a premium feature. Include a clear call-to-action to claim the offer and a reminder of the deadline.\n",
      "\n",
      "5. Re-engagement Survey Email (Month 5):\n",
      "Reason: Gather feedback from users about why they haven't used your service in a while and how you can improve.\n",
      "Content Strategy: Include a short survey with open-ended questions about their experience, preferences, and pain points. Offer a small incentive, like a\n"
     ]
    },
    {
     "name": "stderr",
     "output_type": "stream",
     "text": [
      "The attention mask and the pad token id were not set. As a consequence, you may observe unexpected behavior. Please pass your input's `attention_mask` to obtain reliable results.\n",
      "Setting `pad_token_id` to `eos_token_id`:2 for open-end generation.\n",
      "A decoder-only architecture is being used, but right-padding was detected! For correct generation results, please set `padding_side='left'` when initializing the tokenizer.\n"
     ]
    },
    {
     "name": "stdout",
     "output_type": "stream",
     "text": [
      "mistral-7b-it-emails/checkpoint-700\n",
      "<s> [INST]Give me an email-only content calendar for activating users that haven't used my service in more than 3 months.\n",
      "          The service is an online marketplace for prospective home buyers to find houses and apartments in the Netherlands.\n",
      "          Instructions: for each content idea provided, give me why this is something that makes sense for activating dormant users,\n",
      "          and how to adjust the content strategy depending on whether it has been successful at activating the user after each month.\n",
      "          [/INST]</s>1. Welcome Back Email (Month 1):\n",
      "Reason: A simple and friendly reminder that they have an account with your service and that they haven't used it in a while.\n",
      "Content Strategy: Include a call-to-action (CTA) button to encourage them to log back in and explore new listings.\n",
      "Adjustment: If successful, follow up with a newsletter showcasing popular properties or neighborhoods.\n",
      "\n",
      "2. Personalized Property Recommendations (Month 2):\n",
      "Reason: Show users that you value their preferences and interests by sending them personalized property recommendations based on their past searches and saved listings.\n",
      "Content Strategy: Include high-quality images and brief descriptions of the recommended properties.\n",
      "Adjustment: If successful, send a follow-up email with more recommendations based on their feedback and engagement.\n",
      "\n",
      "3. Exclusive Offers and Discounts (Month 3):\n",
      "Reason: Offer users an incentive to return to your service by providing them with exclusive offers and discounts on properties that match their preferences.\n",
      "Content Strategy: Clearly state the benefits of the offer and include a CTA button to claim the discount.\n",
      "Adjustment: If successful, send a thank-you email and ask for their feedback on the offer.\n",
      "\n",
      "4. Neighborhood Spotlight (Month 4):\n",
      "Reason: Highlight the unique features and amenities of popular neighborhoods in the Netherlands to pique the interest of users.\n",
      "Content Strategy: Include engaging stories, images, and videos that showcase the neighborhood's charm and character.\n",
      "Adjustment: If successful, send a follow-up email with a quiz or survey to determine their preferred neighborhood style.\n",
      "\n",
      "5. Success Stories (Month 5):\n",
      "Reason: Share inspiring stories of users who have found their dream\n"
     ]
    },
    {
     "name": "stderr",
     "output_type": "stream",
     "text": [
      "The attention mask and the pad token id were not set. As a consequence, you may observe unexpected behavior. Please pass your input's `attention_mask` to obtain reliable results.\n",
      "Setting `pad_token_id` to `eos_token_id`:2 for open-end generation.\n",
      "A decoder-only architecture is being used, but right-padding was detected! For correct generation results, please set `padding_side='left'` when initializing the tokenizer.\n"
     ]
    },
    {
     "name": "stdout",
     "output_type": "stream",
     "text": [
      "mistral-7b-it-emails/checkpoint-800\n",
      "<s> [INST]Give me an email-only content calendar for activating users that haven't used my service in more than 3 months.\n",
      "          The service is an online marketplace for prospective home buyers to find houses and apartments in the Netherlands.\n",
      "          Instructions: for each content idea provided, give me why this is something that makes sense for activating dormant users,\n",
      "          and how to adjust the content strategy depending on whether it has been successful at activating the user after each month.\n",
      "          [/INST]</s>1. Welcome Back Email (Month 1):\n",
      "Reason: A simple and friendly reminder that they have an account with your service and that they haven't used it in a while.\n",
      "Content Strategy: Include a call-to-action (CTA) button to encourage them to log back in and explore new listings.\n",
      "Adjustment: If successful, send a follow-up email with personalized recommendations based on their previous searches.\n",
      "\n",
      "2. New Listings Email (Month 2):\n",
      "Reason: Showcasing new listings that match their previous searches and interests.\n",
      "Content Strategy: Include high-quality images, prices, and brief descriptions of the properties.\n",
      "Adjustment: If successful, send a thank-you email and ask for feedback on their experience.\n",
      "\n",
      "3. Price Drop Alerts Email (Month 3):\n",
      "Reason: Notifying them of price drops on properties that match their preferences.\n",
      "Content Strategy: Include the property's location, images, and the new price.\n",
      "Adjustment: If successful, send a follow-up email with more price drop alerts and a CTA to save their search preferences.\n",
      "\n",
      "4. Personalized Recommendations Email (Month 4):\n",
      "Reason: Suggesting properties based on their search history and preferences.\n",
      "Content Strategy: Include images, prices, and brief descriptions of the properties.\n",
      "Adjustment: If successful, send a thank-you email and ask for feedback on the recommendations.\n",
      "\n",
      "5. Exclusive Offers Email (Month 5):\n",
      "Reason: Offering exclusive deals and discounts on properties that match their preferences.\n",
      "Content Strategy: Include images, prices, and details of the offers.\n",
      "Adjustment: If successful, send a follow-up email with more exclusive offers and a CTA to claim the\n"
     ]
    },
    {
     "name": "stderr",
     "output_type": "stream",
     "text": [
      "The attention mask and the pad token id were not set. As a consequence, you may observe unexpected behavior. Please pass your input's `attention_mask` to obtain reliable results.\n",
      "Setting `pad_token_id` to `eos_token_id`:2 for open-end generation.\n",
      "A decoder-only architecture is being used, but right-padding was detected! For correct generation results, please set `padding_side='left'` when initializing the tokenizer.\n"
     ]
    },
    {
     "name": "stdout",
     "output_type": "stream",
     "text": [
      "mistral-7b-it-emails/checkpoint-900\n",
      "<s> [INST]Give me an email-only content calendar for activating users that haven't used my service in more than 3 months.\n",
      "          The service is an online marketplace for prospective home buyers to find houses and apartments in the Netherlands.\n",
      "          Instructions: for each content idea provided, give me why this is something that makes sense for activating dormant users,\n",
      "          and how to adjust the content strategy depending on whether it has been successful at activating the user after each month.\n",
      "          [/INST]</s>1. Welcome Back Email (Month 1):\n",
      "Reason: A simple and friendly reminder that they have an account with your service and that they haven't used it in a while.\n",
      "Content Strategy: Include a call-to-action (CTA) button to encourage them to log back in and explore new listings.\n",
      "Adjustment: If successful, send a follow-up email with personalized recommendations based on their previous searches.\n",
      "\n",
      "2. New Listings Email (Month 2):\n",
      "Reason: Showcasing new and popular listings that match their preferences can entice them to come back.\n",
      "Content Strategy: Include high-quality images, prices, and brief descriptions of the properties.\n",
      "Adjustment: If successful, send a thank-you email and ask for their feedback on the listings they've viewed.\n",
      "\n",
      "3. Price Drop Alerts Email (Month 3):\n",
      "Reason: Notifying users of price drops on properties they've previously shown interest in can be a strong motivator to re-engage.\n",
      "Content Strategy: Include the property's location, images, and the new price.\n",
      "Adjustment: If successful, send a follow-up email with similar price drops in their preferred areas.\n",
      "\n",
      "4. Personalized Recommendations Email (Month 4):\n",
      "Reason: Offering personalized recommendations based on their search history and preferences can make them feel valued and increase the chances of re-engagement.\n",
      "Content Strategy: Include images, prices, and brief descriptions of properties that match their interests.\n",
      "Adjustment: If successful, send a thank-you email and ask for their feedback on the recommendations.\n",
      "\n",
      "5. Exclusive Offers Email (Month 5):\n",
      "Reason: Offering exclusive deals or discounts on properties can be a powerful incentive to come back\n"
     ]
    }
   ],
   "source": [
    "from peft import PeftModel\n",
    "for i in range(100,1000,100):\n",
    "    checkpoint_name = f\"{run_name}/checkpoint-{i}\"\n",
    "    ft_model = PeftModel.from_pretrained(model, checkpoint_name)\n",
    "    \n",
    "    inputs = tokenizer(\"\"\"[INST]Give me an email-only content calendar for activating users that haven't used my service in more than 3 months.\n",
    "          The service is an online marketplace for prospective home buyers to find houses and apartments in the Netherlands.\n",
    "          Instructions: for each content idea provided, give me why this is something that makes sense for activating dormant users,\n",
    "          and how to adjust the content strategy depending on whether it has been successful at activating the user after each month.\n",
    "          [/INST]\"\"\",\n",
    "        return_tensors=\"pt\", return_attention_mask=False).to(\"cuda\")\n",
    "    \n",
    "    outputs = ft_model.generate(**inputs, max_length=500)\n",
    "    text = tokenizer.batch_decode(outputs)[0]\n",
    "    print(checkpoint_name) \n",
    "    print(text)"
   ]
  },
  {
   "cell_type": "code",
   "execution_count": 2,
   "metadata": {},
   "outputs": [],
   "source": [
    "from peft import PeftModel\n",
    "\n",
    "ft_model = PeftModel.from_pretrained(model, f\"{run_name}/checkpoint-{i}\")\n"
   ]
  },
  {
   "cell_type": "code",
   "execution_count": 3,
   "metadata": {
    "id": "iLrn4htyCTEm"
   },
   "outputs": [
    {
     "name": "stdout",
     "output_type": "stream",
     "text": [
      "<bos>\n",
      "  Give me an email-only content calendar for activating users that haven't used my service in more than 3 months.\n",
      "  The service is an online marketplace for prospective home buyers to find houses and apartments in the Netherlands.\n",
      "  Instructions: for each content idea provided, give me why this is something that makes sense for activating dormant users,\n",
      "  and how to adjust the content strategy depending on whether it has been successful at activating the user after each month.\n",
      "<eos><bos>1. **Welcome Email:**\n",
      " - Subject: Welcome to HomeFinds! Get a 100€ discount on your first search. 🏡 💰 💰 💰 💰 💰 💰 💰 💰 💰 💰 💰 💰 💰 💰 💰 💰 💰 💰 💰 💰 💰 💰 💰 💰 💰 💰 💰 💰 💰 💰 💰 💰 💰 💰 💰 💰 💰 💰 💰 💰 💰 💰 💰 💰 💰 💰 💰 💰 💰 💰 💰 💰 💰 💰 💰 💰 💰 💰 💰 💰 💰 💰 💰 💰 💰 💰 💰 💰 💰 💰 💰 💰 💰 💰 💰 💰 💰 💰 💰 💰 💰 💰 💰 💰 💰 💰 💰 💰 💰 💰 💰 💰 💰 💰 💰 💰 💰 💰 💰 💰 💰 💰 💰 💰 💰 💰 💰 💰 💰 💰 💰 💰 💰 💰 💰 💰 💰 💰 💰 💰 💰 💰 💰 💰 💰 💰 💰 💰 💰 💰 💰 💰 💰 💰 💰 💰 💰 💰 💰 💰 💰 💰 💰 💰 💰 💰 💰 💰 💰 💰 💰 💰 💰 💰 💰 💰 💰 💰 💰 💰 💰 💰 💰 💰 💰 💰 💰 💰 💰 💰 💰 💰 💰 💰 💰 💰 💰 💰 💰 💰 💰 💰 💰 💰 \n"
     ]
    }
   ],
   "source": [
    "inputs = tokenizer(\"\"\"\n",
    "  Give me an email-only content calendar for activating users that haven't used my service in more than 3 months.\n",
    "  The service is an online marketplace for prospective home buyers to find houses and apartments in the Netherlands.\n",
    "  Instructions: for each content idea provided, give me why this is something that makes sense for activating dormant users,\n",
    "  and how to adjust the content strategy depending on whether it has been successful at activating the user after each month.\n",
    "\"\"\",\n",
    "                   return_tensors=\"pt\", return_attention_mask=False).to(\"cuda\")\n",
    "\n",
    "outputs = ft_model.generate(**inputs, max_length=500)\n",
    "text = tokenizer.batch_decode(outputs)[0]\n",
    "print(text)"
   ]
  },
  {
   "cell_type": "code",
   "execution_count": null,
   "metadata": {
    "id": "LeYIdS61GF9q"
   },
   "outputs": [],
   "source": []
  }
 ],
 "metadata": {
  "accelerator": "GPU",
  "colab": {
   "gpuType": "T4",
   "provenance": []
  },
  "kernelspec": {
   "display_name": "Python 3 (ipykernel)",
   "language": "python",
   "name": "python3"
  },
  "language_info": {
   "codemirror_mode": {
    "name": "ipython",
    "version": 3
   },
   "file_extension": ".py",
   "mimetype": "text/x-python",
   "name": "python",
   "nbconvert_exporter": "python",
   "pygments_lexer": "ipython3",
   "version": "3.10.12"
  },
  "widgets": {
   "application/vnd.jupyter.widget-state+json": {
    "05849d81ea3c476399fa16ed04df701e": {
     "model_module": "@jupyter-widgets/base",
     "model_module_version": "1.2.0",
     "model_name": "LayoutModel",
     "state": {
      "_model_module": "@jupyter-widgets/base",
      "_model_module_version": "1.2.0",
      "_model_name": "LayoutModel",
      "_view_count": null,
      "_view_module": "@jupyter-widgets/base",
      "_view_module_version": "1.2.0",
      "_view_name": "LayoutView",
      "align_content": null,
      "align_items": null,
      "align_self": null,
      "border": null,
      "bottom": null,
      "display": null,
      "flex": null,
      "flex_flow": null,
      "grid_area": null,
      "grid_auto_columns": null,
      "grid_auto_flow": null,
      "grid_auto_rows": null,
      "grid_column": null,
      "grid_gap": null,
      "grid_row": null,
      "grid_template_areas": null,
      "grid_template_columns": null,
      "grid_template_rows": null,
      "height": null,
      "justify_content": null,
      "justify_items": null,
      "left": null,
      "margin": null,
      "max_height": null,
      "max_width": null,
      "min_height": null,
      "min_width": null,
      "object_fit": null,
      "object_position": null,
      "order": null,
      "overflow": null,
      "overflow_x": null,
      "overflow_y": null,
      "padding": null,
      "right": null,
      "top": null,
      "visibility": null,
      "width": null
     }
    },
    "08d4c699bdac443cb2696a9016bab802": {
     "model_module": "@jupyter-widgets/controls",
     "model_module_version": "1.5.0",
     "model_name": "HTMLModel",
     "state": {
      "_dom_classes": [],
      "_model_module": "@jupyter-widgets/controls",
      "_model_module_version": "1.5.0",
      "_model_name": "HTMLModel",
      "_view_count": null,
      "_view_module": "@jupyter-widgets/controls",
      "_view_module_version": "1.5.0",
      "_view_name": "HTMLView",
      "description": "",
      "description_tooltip": null,
      "layout": "IPY_MODEL_cef43065c0cd4a58b04212cefd61106c",
      "placeholder": "​",
      "style": "IPY_MODEL_c200736bc07e4c35a95e8a923e225d28",
      "value": " 30132/30132 [00:15&lt;00:00, 2163.66 examples/s]"
     }
    },
    "11c77b811e0745569b4dc40685f71b6e": {
     "model_module": "@jupyter-widgets/controls",
     "model_module_version": "1.5.0",
     "model_name": "ProgressStyleModel",
     "state": {
      "_model_module": "@jupyter-widgets/controls",
      "_model_module_version": "1.5.0",
      "_model_name": "ProgressStyleModel",
      "_view_count": null,
      "_view_module": "@jupyter-widgets/base",
      "_view_module_version": "1.2.0",
      "_view_name": "StyleView",
      "bar_color": null,
      "description_width": ""
     }
    },
    "1a66559c14b14e86ac3e38581c87d773": {
     "model_module": "@jupyter-widgets/controls",
     "model_module_version": "1.5.0",
     "model_name": "HBoxModel",
     "state": {
      "_dom_classes": [],
      "_model_module": "@jupyter-widgets/controls",
      "_model_module_version": "1.5.0",
      "_model_name": "HBoxModel",
      "_view_count": null,
      "_view_module": "@jupyter-widgets/controls",
      "_view_module_version": "1.5.0",
      "_view_name": "HBoxView",
      "box_style": "",
      "children": [
       "IPY_MODEL_bf091b6addf846bf881bdddcaa1d292f",
       "IPY_MODEL_9ff5bf96034e4982be9a296658e18b28",
       "IPY_MODEL_08d4c699bdac443cb2696a9016bab802"
      ],
      "layout": "IPY_MODEL_48c3a62fa47a404ea92e1c17fc7b50eb"
     }
    },
    "1f2c71bf1e9348518fae1c087ffe1b72": {
     "model_module": "@jupyter-widgets/controls",
     "model_module_version": "1.5.0",
     "model_name": "HTMLModel",
     "state": {
      "_dom_classes": [],
      "_model_module": "@jupyter-widgets/controls",
      "_model_module_version": "1.5.0",
      "_model_name": "HTMLModel",
      "_view_count": null,
      "_view_module": "@jupyter-widgets/controls",
      "_view_module_version": "1.5.0",
      "_view_name": "HTMLView",
      "description": "",
      "description_tooltip": null,
      "layout": "IPY_MODEL_905184dcef1f4df1b8568a6aa8d1882c",
      "placeholder": "​",
      "style": "IPY_MODEL_cb334193ef184a80ac76acafc42e9e15",
      "value": "Map: 100%"
     }
    },
    "27b71e0556d84b62ab024d6df25f5422": {
     "model_module": "@jupyter-widgets/base",
     "model_module_version": "1.2.0",
     "model_name": "LayoutModel",
     "state": {
      "_model_module": "@jupyter-widgets/base",
      "_model_module_version": "1.2.0",
      "_model_name": "LayoutModel",
      "_view_count": null,
      "_view_module": "@jupyter-widgets/base",
      "_view_module_version": "1.2.0",
      "_view_name": "LayoutView",
      "align_content": null,
      "align_items": null,
      "align_self": null,
      "border": null,
      "bottom": null,
      "display": null,
      "flex": null,
      "flex_flow": null,
      "grid_area": null,
      "grid_auto_columns": null,
      "grid_auto_flow": null,
      "grid_auto_rows": null,
      "grid_column": null,
      "grid_gap": null,
      "grid_row": null,
      "grid_template_areas": null,
      "grid_template_columns": null,
      "grid_template_rows": null,
      "height": null,
      "justify_content": null,
      "justify_items": null,
      "left": null,
      "margin": null,
      "max_height": null,
      "max_width": null,
      "min_height": null,
      "min_width": null,
      "object_fit": null,
      "object_position": null,
      "order": null,
      "overflow": null,
      "overflow_x": null,
      "overflow_y": null,
      "padding": null,
      "right": null,
      "top": null,
      "visibility": null,
      "width": null
     }
    },
    "295cc2482da0441080cc3404f488d09c": {
     "model_module": "@jupyter-widgets/controls",
     "model_module_version": "1.5.0",
     "model_name": "FloatProgressModel",
     "state": {
      "_dom_classes": [],
      "_model_module": "@jupyter-widgets/controls",
      "_model_module_version": "1.5.0",
      "_model_name": "FloatProgressModel",
      "_view_count": null,
      "_view_module": "@jupyter-widgets/controls",
      "_view_module_version": "1.5.0",
      "_view_name": "ProgressView",
      "bar_style": "success",
      "description": "",
      "description_tooltip": null,
      "layout": "IPY_MODEL_05849d81ea3c476399fa16ed04df701e",
      "max": 3349,
      "min": 0,
      "orientation": "horizontal",
      "style": "IPY_MODEL_11c77b811e0745569b4dc40685f71b6e",
      "value": 3349
     }
    },
    "36f6e9448580497bbfb47b2dde1e2bf4": {
     "model_module": "@jupyter-widgets/controls",
     "model_module_version": "1.5.0",
     "model_name": "ProgressStyleModel",
     "state": {
      "_model_module": "@jupyter-widgets/controls",
      "_model_module_version": "1.5.0",
      "_model_name": "ProgressStyleModel",
      "_view_count": null,
      "_view_module": "@jupyter-widgets/base",
      "_view_module_version": "1.2.0",
      "_view_name": "StyleView",
      "bar_color": null,
      "description_width": ""
     }
    },
    "3bcbf7ccbecb4b6aab73017ec7c6da05": {
     "model_module": "@jupyter-widgets/controls",
     "model_module_version": "1.5.0",
     "model_name": "HTMLModel",
     "state": {
      "_dom_classes": [],
      "_model_module": "@jupyter-widgets/controls",
      "_model_module_version": "1.5.0",
      "_model_name": "HTMLModel",
      "_view_count": null,
      "_view_module": "@jupyter-widgets/controls",
      "_view_module_version": "1.5.0",
      "_view_name": "HTMLView",
      "description": "",
      "description_tooltip": null,
      "layout": "IPY_MODEL_75756ad6cd8c4556beb9bb1f36da3c84",
      "placeholder": "​",
      "style": "IPY_MODEL_5d792d0310e94385bd150658adf60c34",
      "value": " 3349/3349 [00:01&lt;00:00, 1912.59 examples/s]"
     }
    },
    "48c3a62fa47a404ea92e1c17fc7b50eb": {
     "model_module": "@jupyter-widgets/base",
     "model_module_version": "1.2.0",
     "model_name": "LayoutModel",
     "state": {
      "_model_module": "@jupyter-widgets/base",
      "_model_module_version": "1.2.0",
      "_model_name": "LayoutModel",
      "_view_count": null,
      "_view_module": "@jupyter-widgets/base",
      "_view_module_version": "1.2.0",
      "_view_name": "LayoutView",
      "align_content": null,
      "align_items": null,
      "align_self": null,
      "border": null,
      "bottom": null,
      "display": null,
      "flex": null,
      "flex_flow": null,
      "grid_area": null,
      "grid_auto_columns": null,
      "grid_auto_flow": null,
      "grid_auto_rows": null,
      "grid_column": null,
      "grid_gap": null,
      "grid_row": null,
      "grid_template_areas": null,
      "grid_template_columns": null,
      "grid_template_rows": null,
      "height": null,
      "justify_content": null,
      "justify_items": null,
      "left": null,
      "margin": null,
      "max_height": null,
      "max_width": null,
      "min_height": null,
      "min_width": null,
      "object_fit": null,
      "object_position": null,
      "order": null,
      "overflow": null,
      "overflow_x": null,
      "overflow_y": null,
      "padding": null,
      "right": null,
      "top": null,
      "visibility": null,
      "width": null
     }
    },
    "5d792d0310e94385bd150658adf60c34": {
     "model_module": "@jupyter-widgets/controls",
     "model_module_version": "1.5.0",
     "model_name": "DescriptionStyleModel",
     "state": {
      "_model_module": "@jupyter-widgets/controls",
      "_model_module_version": "1.5.0",
      "_model_name": "DescriptionStyleModel",
      "_view_count": null,
      "_view_module": "@jupyter-widgets/base",
      "_view_module_version": "1.2.0",
      "_view_name": "StyleView",
      "description_width": ""
     }
    },
    "5f462014cb824dea9bec2ae36f7f01ad": {
     "model_module": "@jupyter-widgets/controls",
     "model_module_version": "1.5.0",
     "model_name": "HBoxModel",
     "state": {
      "_dom_classes": [],
      "_model_module": "@jupyter-widgets/controls",
      "_model_module_version": "1.5.0",
      "_model_name": "HBoxModel",
      "_view_count": null,
      "_view_module": "@jupyter-widgets/controls",
      "_view_module_version": "1.5.0",
      "_view_name": "HBoxView",
      "box_style": "",
      "children": [
       "IPY_MODEL_1f2c71bf1e9348518fae1c087ffe1b72",
       "IPY_MODEL_295cc2482da0441080cc3404f488d09c",
       "IPY_MODEL_3bcbf7ccbecb4b6aab73017ec7c6da05"
      ],
      "layout": "IPY_MODEL_661fa7e195d844a482a212be4c4ee79c"
     }
    },
    "661fa7e195d844a482a212be4c4ee79c": {
     "model_module": "@jupyter-widgets/base",
     "model_module_version": "1.2.0",
     "model_name": "LayoutModel",
     "state": {
      "_model_module": "@jupyter-widgets/base",
      "_model_module_version": "1.2.0",
      "_model_name": "LayoutModel",
      "_view_count": null,
      "_view_module": "@jupyter-widgets/base",
      "_view_module_version": "1.2.0",
      "_view_name": "LayoutView",
      "align_content": null,
      "align_items": null,
      "align_self": null,
      "border": null,
      "bottom": null,
      "display": null,
      "flex": null,
      "flex_flow": null,
      "grid_area": null,
      "grid_auto_columns": null,
      "grid_auto_flow": null,
      "grid_auto_rows": null,
      "grid_column": null,
      "grid_gap": null,
      "grid_row": null,
      "grid_template_areas": null,
      "grid_template_columns": null,
      "grid_template_rows": null,
      "height": null,
      "justify_content": null,
      "justify_items": null,
      "left": null,
      "margin": null,
      "max_height": null,
      "max_width": null,
      "min_height": null,
      "min_width": null,
      "object_fit": null,
      "object_position": null,
      "order": null,
      "overflow": null,
      "overflow_x": null,
      "overflow_y": null,
      "padding": null,
      "right": null,
      "top": null,
      "visibility": null,
      "width": null
     }
    },
    "72bb036a5c264621b85589199debd8cf": {
     "model_module": "@jupyter-widgets/controls",
     "model_module_version": "1.5.0",
     "model_name": "DescriptionStyleModel",
     "state": {
      "_model_module": "@jupyter-widgets/controls",
      "_model_module_version": "1.5.0",
      "_model_name": "DescriptionStyleModel",
      "_view_count": null,
      "_view_module": "@jupyter-widgets/base",
      "_view_module_version": "1.2.0",
      "_view_name": "StyleView",
      "description_width": ""
     }
    },
    "75756ad6cd8c4556beb9bb1f36da3c84": {
     "model_module": "@jupyter-widgets/base",
     "model_module_version": "1.2.0",
     "model_name": "LayoutModel",
     "state": {
      "_model_module": "@jupyter-widgets/base",
      "_model_module_version": "1.2.0",
      "_model_name": "LayoutModel",
      "_view_count": null,
      "_view_module": "@jupyter-widgets/base",
      "_view_module_version": "1.2.0",
      "_view_name": "LayoutView",
      "align_content": null,
      "align_items": null,
      "align_self": null,
      "border": null,
      "bottom": null,
      "display": null,
      "flex": null,
      "flex_flow": null,
      "grid_area": null,
      "grid_auto_columns": null,
      "grid_auto_flow": null,
      "grid_auto_rows": null,
      "grid_column": null,
      "grid_gap": null,
      "grid_row": null,
      "grid_template_areas": null,
      "grid_template_columns": null,
      "grid_template_rows": null,
      "height": null,
      "justify_content": null,
      "justify_items": null,
      "left": null,
      "margin": null,
      "max_height": null,
      "max_width": null,
      "min_height": null,
      "min_width": null,
      "object_fit": null,
      "object_position": null,
      "order": null,
      "overflow": null,
      "overflow_x": null,
      "overflow_y": null,
      "padding": null,
      "right": null,
      "top": null,
      "visibility": null,
      "width": null
     }
    },
    "905184dcef1f4df1b8568a6aa8d1882c": {
     "model_module": "@jupyter-widgets/base",
     "model_module_version": "1.2.0",
     "model_name": "LayoutModel",
     "state": {
      "_model_module": "@jupyter-widgets/base",
      "_model_module_version": "1.2.0",
      "_model_name": "LayoutModel",
      "_view_count": null,
      "_view_module": "@jupyter-widgets/base",
      "_view_module_version": "1.2.0",
      "_view_name": "LayoutView",
      "align_content": null,
      "align_items": null,
      "align_self": null,
      "border": null,
      "bottom": null,
      "display": null,
      "flex": null,
      "flex_flow": null,
      "grid_area": null,
      "grid_auto_columns": null,
      "grid_auto_flow": null,
      "grid_auto_rows": null,
      "grid_column": null,
      "grid_gap": null,
      "grid_row": null,
      "grid_template_areas": null,
      "grid_template_columns": null,
      "grid_template_rows": null,
      "height": null,
      "justify_content": null,
      "justify_items": null,
      "left": null,
      "margin": null,
      "max_height": null,
      "max_width": null,
      "min_height": null,
      "min_width": null,
      "object_fit": null,
      "object_position": null,
      "order": null,
      "overflow": null,
      "overflow_x": null,
      "overflow_y": null,
      "padding": null,
      "right": null,
      "top": null,
      "visibility": null,
      "width": null
     }
    },
    "9ff5bf96034e4982be9a296658e18b28": {
     "model_module": "@jupyter-widgets/controls",
     "model_module_version": "1.5.0",
     "model_name": "FloatProgressModel",
     "state": {
      "_dom_classes": [],
      "_model_module": "@jupyter-widgets/controls",
      "_model_module_version": "1.5.0",
      "_model_name": "FloatProgressModel",
      "_view_count": null,
      "_view_module": "@jupyter-widgets/controls",
      "_view_module_version": "1.5.0",
      "_view_name": "ProgressView",
      "bar_style": "success",
      "description": "",
      "description_tooltip": null,
      "layout": "IPY_MODEL_c2c7d284450841259db296c370886281",
      "max": 30132,
      "min": 0,
      "orientation": "horizontal",
      "style": "IPY_MODEL_36f6e9448580497bbfb47b2dde1e2bf4",
      "value": 30132
     }
    },
    "bf091b6addf846bf881bdddcaa1d292f": {
     "model_module": "@jupyter-widgets/controls",
     "model_module_version": "1.5.0",
     "model_name": "HTMLModel",
     "state": {
      "_dom_classes": [],
      "_model_module": "@jupyter-widgets/controls",
      "_model_module_version": "1.5.0",
      "_model_name": "HTMLModel",
      "_view_count": null,
      "_view_module": "@jupyter-widgets/controls",
      "_view_module_version": "1.5.0",
      "_view_name": "HTMLView",
      "description": "",
      "description_tooltip": null,
      "layout": "IPY_MODEL_27b71e0556d84b62ab024d6df25f5422",
      "placeholder": "​",
      "style": "IPY_MODEL_72bb036a5c264621b85589199debd8cf",
      "value": "Map: 100%"
     }
    },
    "c200736bc07e4c35a95e8a923e225d28": {
     "model_module": "@jupyter-widgets/controls",
     "model_module_version": "1.5.0",
     "model_name": "DescriptionStyleModel",
     "state": {
      "_model_module": "@jupyter-widgets/controls",
      "_model_module_version": "1.5.0",
      "_model_name": "DescriptionStyleModel",
      "_view_count": null,
      "_view_module": "@jupyter-widgets/base",
      "_view_module_version": "1.2.0",
      "_view_name": "StyleView",
      "description_width": ""
     }
    },
    "c2c7d284450841259db296c370886281": {
     "model_module": "@jupyter-widgets/base",
     "model_module_version": "1.2.0",
     "model_name": "LayoutModel",
     "state": {
      "_model_module": "@jupyter-widgets/base",
      "_model_module_version": "1.2.0",
      "_model_name": "LayoutModel",
      "_view_count": null,
      "_view_module": "@jupyter-widgets/base",
      "_view_module_version": "1.2.0",
      "_view_name": "LayoutView",
      "align_content": null,
      "align_items": null,
      "align_self": null,
      "border": null,
      "bottom": null,
      "display": null,
      "flex": null,
      "flex_flow": null,
      "grid_area": null,
      "grid_auto_columns": null,
      "grid_auto_flow": null,
      "grid_auto_rows": null,
      "grid_column": null,
      "grid_gap": null,
      "grid_row": null,
      "grid_template_areas": null,
      "grid_template_columns": null,
      "grid_template_rows": null,
      "height": null,
      "justify_content": null,
      "justify_items": null,
      "left": null,
      "margin": null,
      "max_height": null,
      "max_width": null,
      "min_height": null,
      "min_width": null,
      "object_fit": null,
      "object_position": null,
      "order": null,
      "overflow": null,
      "overflow_x": null,
      "overflow_y": null,
      "padding": null,
      "right": null,
      "top": null,
      "visibility": null,
      "width": null
     }
    },
    "cb334193ef184a80ac76acafc42e9e15": {
     "model_module": "@jupyter-widgets/controls",
     "model_module_version": "1.5.0",
     "model_name": "DescriptionStyleModel",
     "state": {
      "_model_module": "@jupyter-widgets/controls",
      "_model_module_version": "1.5.0",
      "_model_name": "DescriptionStyleModel",
      "_view_count": null,
      "_view_module": "@jupyter-widgets/base",
      "_view_module_version": "1.2.0",
      "_view_name": "StyleView",
      "description_width": ""
     }
    },
    "cef43065c0cd4a58b04212cefd61106c": {
     "model_module": "@jupyter-widgets/base",
     "model_module_version": "1.2.0",
     "model_name": "LayoutModel",
     "state": {
      "_model_module": "@jupyter-widgets/base",
      "_model_module_version": "1.2.0",
      "_model_name": "LayoutModel",
      "_view_count": null,
      "_view_module": "@jupyter-widgets/base",
      "_view_module_version": "1.2.0",
      "_view_name": "LayoutView",
      "align_content": null,
      "align_items": null,
      "align_self": null,
      "border": null,
      "bottom": null,
      "display": null,
      "flex": null,
      "flex_flow": null,
      "grid_area": null,
      "grid_auto_columns": null,
      "grid_auto_flow": null,
      "grid_auto_rows": null,
      "grid_column": null,
      "grid_gap": null,
      "grid_row": null,
      "grid_template_areas": null,
      "grid_template_columns": null,
      "grid_template_rows": null,
      "height": null,
      "justify_content": null,
      "justify_items": null,
      "left": null,
      "margin": null,
      "max_height": null,
      "max_width": null,
      "min_height": null,
      "min_width": null,
      "object_fit": null,
      "object_position": null,
      "order": null,
      "overflow": null,
      "overflow_x": null,
      "overflow_y": null,
      "padding": null,
      "right": null,
      "top": null,
      "visibility": null,
      "width": null
     }
    }
   }
  }
 },
 "nbformat": 4,
 "nbformat_minor": 4
}
